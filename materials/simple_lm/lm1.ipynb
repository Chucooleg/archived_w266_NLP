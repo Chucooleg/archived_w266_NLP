{
 "cells": [
  {
   "cell_type": "markdown",
   "metadata": {},
   "source": [
    "# Week 3: Language Modeling I\n",
    "\n",
    "In this week's section, we'll explore basic techniques for language modeling. \n",
    "\n",
    "We'll first dig into word distributions to illustrate the sparsity problem and the difficulty of prediction.\n",
    "\n",
    "Then, we'll look at a simple N-gram language model and generate some sample sentences. In the homework, you'll extend this by implementing smoothing techniques that improve performance, and perform some more detailed analysis of the model.\n",
    "\n",
    "**Note:** if you're viewing this in-browser, jump over to the NBViewer link. This will get around GitHub's JavaScript block and properly render the plots:  \n",
    "http://nbviewer.jupyter.org/github/datasci-w266/2018-spring-main/blob/master/materials/simple_lm/lm1.ipynb\n",
    "\n",
    "We'll use [Bokeh](https://bokeh.pydata.org/en/latest/docs/user_guide/quickstart.html) for plotting some data in this notebook. It's similar to `matplotlib`, but renders JavaScript-based plots that support more interactive control."
   ]
  },
  {
   "cell_type": "code",
   "execution_count": 1,
   "metadata": {},
   "outputs": [
    {
     "data": {
      "text/html": [
       "\n",
       "    <div class=\"bk-root\">\n",
       "        <a href=\"https://bokeh.pydata.org\" target=\"_blank\" class=\"bk-logo bk-logo-small bk-logo-notebook\"></a>\n",
       "        <span id=\"4a12dd08-26f9-4e5c-9cec-fd8c2162a4f2\">Loading BokehJS ...</span>\n",
       "    </div>"
      ]
     },
     "metadata": {},
     "output_type": "display_data"
    },
    {
     "data": {
      "application/javascript": [
       "\n",
       "(function(root) {\n",
       "  function now() {\n",
       "    return new Date();\n",
       "  }\n",
       "\n",
       "  var force = true;\n",
       "\n",
       "  if (typeof (root._bokeh_onload_callbacks) === \"undefined\" || force === true) {\n",
       "    root._bokeh_onload_callbacks = [];\n",
       "    root._bokeh_is_loading = undefined;\n",
       "  }\n",
       "\n",
       "  var JS_MIME_TYPE = 'application/javascript';\n",
       "  var HTML_MIME_TYPE = 'text/html';\n",
       "  var EXEC_MIME_TYPE = 'application/vnd.bokehjs_exec.v0+json';\n",
       "  var CLASS_NAME = 'output_bokeh rendered_html';\n",
       "\n",
       "  /**\n",
       "   * Render data to the DOM node\n",
       "   */\n",
       "  function render(props, node) {\n",
       "    var script = document.createElement(\"script\");\n",
       "    node.appendChild(script);\n",
       "  }\n",
       "\n",
       "  /**\n",
       "   * Handle when an output is cleared or removed\n",
       "   */\n",
       "  function handleClearOutput(event, handle) {\n",
       "    var cell = handle.cell;\n",
       "\n",
       "    var id = cell.output_area._bokeh_element_id;\n",
       "    var server_id = cell.output_area._bokeh_server_id;\n",
       "    // Clean up Bokeh references\n",
       "    if (id !== undefined) {\n",
       "      Bokeh.index[id].model.document.clear();\n",
       "      delete Bokeh.index[id];\n",
       "    }\n",
       "\n",
       "    if (server_id !== undefined) {\n",
       "      // Clean up Bokeh references\n",
       "      var cmd = \"from bokeh.io.state import curstate; print(curstate().uuid_to_server['\" + server_id + \"'].get_sessions()[0].document.roots[0]._id)\";\n",
       "      cell.notebook.kernel.execute(cmd, {\n",
       "        iopub: {\n",
       "          output: function(msg) {\n",
       "            var element_id = msg.content.text.trim();\n",
       "            Bokeh.index[element_id].model.document.clear();\n",
       "            delete Bokeh.index[element_id];\n",
       "          }\n",
       "        }\n",
       "      });\n",
       "      // Destroy server and session\n",
       "      var cmd = \"import bokeh.io.notebook as ion; ion.destroy_server('\" + server_id + \"')\";\n",
       "      cell.notebook.kernel.execute(cmd);\n",
       "    }\n",
       "  }\n",
       "\n",
       "  /**\n",
       "   * Handle when a new output is added\n",
       "   */\n",
       "  function handleAddOutput(event, handle) {\n",
       "    var output_area = handle.output_area;\n",
       "    var output = handle.output;\n",
       "\n",
       "    // limit handleAddOutput to display_data with EXEC_MIME_TYPE content only\n",
       "    if ((output.output_type != \"display_data\") || (!output.data.hasOwnProperty(EXEC_MIME_TYPE))) {\n",
       "      return\n",
       "    }\n",
       "\n",
       "    var toinsert = output_area.element.find(`.${CLASS_NAME.split(' ')[0]}`);\n",
       "\n",
       "    if (output.metadata[EXEC_MIME_TYPE][\"id\"] !== undefined) {\n",
       "      toinsert[0].firstChild.textContent = output.data[JS_MIME_TYPE];\n",
       "      // store reference to embed id on output_area\n",
       "      output_area._bokeh_element_id = output.metadata[EXEC_MIME_TYPE][\"id\"];\n",
       "    }\n",
       "    if (output.metadata[EXEC_MIME_TYPE][\"server_id\"] !== undefined) {\n",
       "      var bk_div = document.createElement(\"div\");\n",
       "      bk_div.innerHTML = output.data[HTML_MIME_TYPE];\n",
       "      var script_attrs = bk_div.children[0].attributes;\n",
       "      for (var i = 0; i < script_attrs.length; i++) {\n",
       "        toinsert[0].firstChild.setAttribute(script_attrs[i].name, script_attrs[i].value);\n",
       "      }\n",
       "      // store reference to server id on output_area\n",
       "      output_area._bokeh_server_id = output.metadata[EXEC_MIME_TYPE][\"server_id\"];\n",
       "    }\n",
       "  }\n",
       "\n",
       "  function register_renderer(events, OutputArea) {\n",
       "\n",
       "    function append_mime(data, metadata, element) {\n",
       "      // create a DOM node to render to\n",
       "      var toinsert = this.create_output_subarea(\n",
       "        metadata,\n",
       "        CLASS_NAME,\n",
       "        EXEC_MIME_TYPE\n",
       "      );\n",
       "      this.keyboard_manager.register_events(toinsert);\n",
       "      // Render to node\n",
       "      var props = {data: data, metadata: metadata[EXEC_MIME_TYPE]};\n",
       "      render(props, toinsert[0]);\n",
       "      element.append(toinsert);\n",
       "      return toinsert\n",
       "    }\n",
       "\n",
       "    /* Handle when an output is cleared or removed */\n",
       "    events.on('clear_output.CodeCell', handleClearOutput);\n",
       "    events.on('delete.Cell', handleClearOutput);\n",
       "\n",
       "    /* Handle when a new output is added */\n",
       "    events.on('output_added.OutputArea', handleAddOutput);\n",
       "\n",
       "    /**\n",
       "     * Register the mime type and append_mime function with output_area\n",
       "     */\n",
       "    OutputArea.prototype.register_mime_type(EXEC_MIME_TYPE, append_mime, {\n",
       "      /* Is output safe? */\n",
       "      safe: true,\n",
       "      /* Index of renderer in `output_area.display_order` */\n",
       "      index: 0\n",
       "    });\n",
       "  }\n",
       "\n",
       "  // register the mime type if in Jupyter Notebook environment and previously unregistered\n",
       "  if (root.Jupyter !== undefined) {\n",
       "    var events = require('base/js/events');\n",
       "    var OutputArea = require('notebook/js/outputarea').OutputArea;\n",
       "\n",
       "    if (OutputArea.prototype.mime_types().indexOf(EXEC_MIME_TYPE) == -1) {\n",
       "      register_renderer(events, OutputArea);\n",
       "    }\n",
       "  }\n",
       "\n",
       "  \n",
       "  if (typeof (root._bokeh_timeout) === \"undefined\" || force === true) {\n",
       "    root._bokeh_timeout = Date.now() + 5000;\n",
       "    root._bokeh_failed_load = false;\n",
       "  }\n",
       "\n",
       "  var NB_LOAD_WARNING = {'data': {'text/html':\n",
       "     \"<div style='background-color: #fdd'>\\n\"+\n",
       "     \"<p>\\n\"+\n",
       "     \"BokehJS does not appear to have successfully loaded. If loading BokehJS from CDN, this \\n\"+\n",
       "     \"may be due to a slow or bad network connection. Possible fixes:\\n\"+\n",
       "     \"</p>\\n\"+\n",
       "     \"<ul>\\n\"+\n",
       "     \"<li>re-rerun `output_notebook()` to attempt to load from CDN again, or</li>\\n\"+\n",
       "     \"<li>use INLINE resources instead, as so:</li>\\n\"+\n",
       "     \"</ul>\\n\"+\n",
       "     \"<code>\\n\"+\n",
       "     \"from bokeh.resources import INLINE\\n\"+\n",
       "     \"output_notebook(resources=INLINE)\\n\"+\n",
       "     \"</code>\\n\"+\n",
       "     \"</div>\"}};\n",
       "\n",
       "  function display_loaded() {\n",
       "    var el = document.getElementById(\"4a12dd08-26f9-4e5c-9cec-fd8c2162a4f2\");\n",
       "    if (el != null) {\n",
       "      el.textContent = \"BokehJS is loading...\";\n",
       "    }\n",
       "    if (root.Bokeh !== undefined) {\n",
       "      if (el != null) {\n",
       "        el.textContent = \"BokehJS \" + root.Bokeh.version + \" successfully loaded.\";\n",
       "      }\n",
       "    } else if (Date.now() < root._bokeh_timeout) {\n",
       "      setTimeout(display_loaded, 100)\n",
       "    }\n",
       "  }\n",
       "\n",
       "\n",
       "  function run_callbacks() {\n",
       "    try {\n",
       "      root._bokeh_onload_callbacks.forEach(function(callback) { callback() });\n",
       "    }\n",
       "    finally {\n",
       "      delete root._bokeh_onload_callbacks\n",
       "    }\n",
       "    console.info(\"Bokeh: all callbacks have finished\");\n",
       "  }\n",
       "\n",
       "  function load_libs(js_urls, callback) {\n",
       "    root._bokeh_onload_callbacks.push(callback);\n",
       "    if (root._bokeh_is_loading > 0) {\n",
       "      console.log(\"Bokeh: BokehJS is being loaded, scheduling callback at\", now());\n",
       "      return null;\n",
       "    }\n",
       "    if (js_urls == null || js_urls.length === 0) {\n",
       "      run_callbacks();\n",
       "      return null;\n",
       "    }\n",
       "    console.log(\"Bokeh: BokehJS not loaded, scheduling load and callback at\", now());\n",
       "    root._bokeh_is_loading = js_urls.length;\n",
       "    for (var i = 0; i < js_urls.length; i++) {\n",
       "      var url = js_urls[i];\n",
       "      var s = document.createElement('script');\n",
       "      s.src = url;\n",
       "      s.async = false;\n",
       "      s.onreadystatechange = s.onload = function() {\n",
       "        root._bokeh_is_loading--;\n",
       "        if (root._bokeh_is_loading === 0) {\n",
       "          console.log(\"Bokeh: all BokehJS libraries loaded\");\n",
       "          run_callbacks()\n",
       "        }\n",
       "      };\n",
       "      s.onerror = function() {\n",
       "        console.warn(\"failed to load library \" + url);\n",
       "      };\n",
       "      console.log(\"Bokeh: injecting script tag for BokehJS library: \", url);\n",
       "      document.getElementsByTagName(\"head\")[0].appendChild(s);\n",
       "    }\n",
       "  };var element = document.getElementById(\"4a12dd08-26f9-4e5c-9cec-fd8c2162a4f2\");\n",
       "  if (element == null) {\n",
       "    console.log(\"Bokeh: ERROR: autoload.js configured with elementid '4a12dd08-26f9-4e5c-9cec-fd8c2162a4f2' but no matching script tag was found. \")\n",
       "    return false;\n",
       "  }\n",
       "\n",
       "  var js_urls = [\"https://cdn.pydata.org/bokeh/release/bokeh-0.12.10.min.js\", \"https://cdn.pydata.org/bokeh/release/bokeh-widgets-0.12.10.min.js\", \"https://cdn.pydata.org/bokeh/release/bokeh-tables-0.12.10.min.js\", \"https://cdn.pydata.org/bokeh/release/bokeh-gl-0.12.10.min.js\"];\n",
       "\n",
       "  var inline_js = [\n",
       "    function(Bokeh) {\n",
       "      Bokeh.set_log_level(\"info\");\n",
       "    },\n",
       "    \n",
       "    function(Bokeh) {\n",
       "      \n",
       "    },\n",
       "    function(Bokeh) {\n",
       "      console.log(\"Bokeh: injecting CSS: https://cdn.pydata.org/bokeh/release/bokeh-0.12.10.min.css\");\n",
       "      Bokeh.embed.inject_css(\"https://cdn.pydata.org/bokeh/release/bokeh-0.12.10.min.css\");\n",
       "      console.log(\"Bokeh: injecting CSS: https://cdn.pydata.org/bokeh/release/bokeh-widgets-0.12.10.min.css\");\n",
       "      Bokeh.embed.inject_css(\"https://cdn.pydata.org/bokeh/release/bokeh-widgets-0.12.10.min.css\");\n",
       "      console.log(\"Bokeh: injecting CSS: https://cdn.pydata.org/bokeh/release/bokeh-tables-0.12.10.min.css\");\n",
       "      Bokeh.embed.inject_css(\"https://cdn.pydata.org/bokeh/release/bokeh-tables-0.12.10.min.css\");\n",
       "    }\n",
       "  ];\n",
       "\n",
       "  function run_inline_js() {\n",
       "    \n",
       "    if ((root.Bokeh !== undefined) || (force === true)) {\n",
       "      for (var i = 0; i < inline_js.length; i++) {\n",
       "        inline_js[i].call(root, root.Bokeh);\n",
       "      }if (force === true) {\n",
       "        display_loaded();\n",
       "      }} else if (Date.now() < root._bokeh_timeout) {\n",
       "      setTimeout(run_inline_js, 100);\n",
       "    } else if (!root._bokeh_failed_load) {\n",
       "      console.log(\"Bokeh: BokehJS failed to load within specified timeout.\");\n",
       "      root._bokeh_failed_load = true;\n",
       "    } else if (force !== true) {\n",
       "      var cell = $(document.getElementById(\"4a12dd08-26f9-4e5c-9cec-fd8c2162a4f2\")).parents('.cell').data().cell;\n",
       "      cell.output_area.append_execute_result(NB_LOAD_WARNING)\n",
       "    }\n",
       "\n",
       "  }\n",
       "\n",
       "  if (root._bokeh_is_loading === 0) {\n",
       "    console.log(\"Bokeh: BokehJS loaded, going straight to plotting\");\n",
       "    run_inline_js();\n",
       "  } else {\n",
       "    load_libs(js_urls, function() {\n",
       "      console.log(\"Bokeh: BokehJS plotting callback run at\", now());\n",
       "      run_inline_js();\n",
       "    });\n",
       "  }\n",
       "}(window));"
      ],
      "application/vnd.bokehjs_load.v0+json": "\n(function(root) {\n  function now() {\n    return new Date();\n  }\n\n  var force = true;\n\n  if (typeof (root._bokeh_onload_callbacks) === \"undefined\" || force === true) {\n    root._bokeh_onload_callbacks = [];\n    root._bokeh_is_loading = undefined;\n  }\n\n  \n\n  \n  if (typeof (root._bokeh_timeout) === \"undefined\" || force === true) {\n    root._bokeh_timeout = Date.now() + 5000;\n    root._bokeh_failed_load = false;\n  }\n\n  var NB_LOAD_WARNING = {'data': {'text/html':\n     \"<div style='background-color: #fdd'>\\n\"+\n     \"<p>\\n\"+\n     \"BokehJS does not appear to have successfully loaded. If loading BokehJS from CDN, this \\n\"+\n     \"may be due to a slow or bad network connection. Possible fixes:\\n\"+\n     \"</p>\\n\"+\n     \"<ul>\\n\"+\n     \"<li>re-rerun `output_notebook()` to attempt to load from CDN again, or</li>\\n\"+\n     \"<li>use INLINE resources instead, as so:</li>\\n\"+\n     \"</ul>\\n\"+\n     \"<code>\\n\"+\n     \"from bokeh.resources import INLINE\\n\"+\n     \"output_notebook(resources=INLINE)\\n\"+\n     \"</code>\\n\"+\n     \"</div>\"}};\n\n  function display_loaded() {\n    var el = document.getElementById(\"4a12dd08-26f9-4e5c-9cec-fd8c2162a4f2\");\n    if (el != null) {\n      el.textContent = \"BokehJS is loading...\";\n    }\n    if (root.Bokeh !== undefined) {\n      if (el != null) {\n        el.textContent = \"BokehJS \" + root.Bokeh.version + \" successfully loaded.\";\n      }\n    } else if (Date.now() < root._bokeh_timeout) {\n      setTimeout(display_loaded, 100)\n    }\n  }\n\n\n  function run_callbacks() {\n    try {\n      root._bokeh_onload_callbacks.forEach(function(callback) { callback() });\n    }\n    finally {\n      delete root._bokeh_onload_callbacks\n    }\n    console.info(\"Bokeh: all callbacks have finished\");\n  }\n\n  function load_libs(js_urls, callback) {\n    root._bokeh_onload_callbacks.push(callback);\n    if (root._bokeh_is_loading > 0) {\n      console.log(\"Bokeh: BokehJS is being loaded, scheduling callback at\", now());\n      return null;\n    }\n    if (js_urls == null || js_urls.length === 0) {\n      run_callbacks();\n      return null;\n    }\n    console.log(\"Bokeh: BokehJS not loaded, scheduling load and callback at\", now());\n    root._bokeh_is_loading = js_urls.length;\n    for (var i = 0; i < js_urls.length; i++) {\n      var url = js_urls[i];\n      var s = document.createElement('script');\n      s.src = url;\n      s.async = false;\n      s.onreadystatechange = s.onload = function() {\n        root._bokeh_is_loading--;\n        if (root._bokeh_is_loading === 0) {\n          console.log(\"Bokeh: all BokehJS libraries loaded\");\n          run_callbacks()\n        }\n      };\n      s.onerror = function() {\n        console.warn(\"failed to load library \" + url);\n      };\n      console.log(\"Bokeh: injecting script tag for BokehJS library: \", url);\n      document.getElementsByTagName(\"head\")[0].appendChild(s);\n    }\n  };var element = document.getElementById(\"4a12dd08-26f9-4e5c-9cec-fd8c2162a4f2\");\n  if (element == null) {\n    console.log(\"Bokeh: ERROR: autoload.js configured with elementid '4a12dd08-26f9-4e5c-9cec-fd8c2162a4f2' but no matching script tag was found. \")\n    return false;\n  }\n\n  var js_urls = [\"https://cdn.pydata.org/bokeh/release/bokeh-0.12.10.min.js\", \"https://cdn.pydata.org/bokeh/release/bokeh-widgets-0.12.10.min.js\", \"https://cdn.pydata.org/bokeh/release/bokeh-tables-0.12.10.min.js\", \"https://cdn.pydata.org/bokeh/release/bokeh-gl-0.12.10.min.js\"];\n\n  var inline_js = [\n    function(Bokeh) {\n      Bokeh.set_log_level(\"info\");\n    },\n    \n    function(Bokeh) {\n      \n    },\n    function(Bokeh) {\n      console.log(\"Bokeh: injecting CSS: https://cdn.pydata.org/bokeh/release/bokeh-0.12.10.min.css\");\n      Bokeh.embed.inject_css(\"https://cdn.pydata.org/bokeh/release/bokeh-0.12.10.min.css\");\n      console.log(\"Bokeh: injecting CSS: https://cdn.pydata.org/bokeh/release/bokeh-widgets-0.12.10.min.css\");\n      Bokeh.embed.inject_css(\"https://cdn.pydata.org/bokeh/release/bokeh-widgets-0.12.10.min.css\");\n      console.log(\"Bokeh: injecting CSS: https://cdn.pydata.org/bokeh/release/bokeh-tables-0.12.10.min.css\");\n      Bokeh.embed.inject_css(\"https://cdn.pydata.org/bokeh/release/bokeh-tables-0.12.10.min.css\");\n    }\n  ];\n\n  function run_inline_js() {\n    \n    if ((root.Bokeh !== undefined) || (force === true)) {\n      for (var i = 0; i < inline_js.length; i++) {\n        inline_js[i].call(root, root.Bokeh);\n      }if (force === true) {\n        display_loaded();\n      }} else if (Date.now() < root._bokeh_timeout) {\n      setTimeout(run_inline_js, 100);\n    } else if (!root._bokeh_failed_load) {\n      console.log(\"Bokeh: BokehJS failed to load within specified timeout.\");\n      root._bokeh_failed_load = true;\n    } else if (force !== true) {\n      var cell = $(document.getElementById(\"4a12dd08-26f9-4e5c-9cec-fd8c2162a4f2\")).parents('.cell').data().cell;\n      cell.output_area.append_execute_result(NB_LOAD_WARNING)\n    }\n\n  }\n\n  if (root._bokeh_is_loading === 0) {\n    console.log(\"Bokeh: BokehJS loaded, going straight to plotting\");\n    run_inline_js();\n  } else {\n    load_libs(js_urls, function() {\n      console.log(\"Bokeh: BokehJS plotting callback run at\", now());\n      run_inline_js();\n    });\n  }\n}(window));"
     },
     "metadata": {},
     "output_type": "display_data"
    }
   ],
   "source": [
    "# Standard python helper libraries.\n",
    "from __future__ import print_function\n",
    "from __future__ import division\n",
    "import os, sys, time\n",
    "import collections\n",
    "import itertools\n",
    "\n",
    "# Numerical manipulation libraries.\n",
    "import numpy as np\n",
    "from scipy import stats, optimize\n",
    "\n",
    "# NLTK is the Natural Language Toolkit, and contains several language datasets\n",
    "# as well as implementations of many popular NLP algorithms.\n",
    "# HINT: You should look at what is available here when thinking about your project!\n",
    "import nltk\n",
    "\n",
    "# Helper libraries (see the corresponding py files in this notebook's directory).\n",
    "from w266_common import utils, vocabulary\n",
    "import segment\n",
    "\n",
    "utils.require_package(\"tqdm\")  # for nice progress bars\n",
    "from tqdm import tqdm as ProgressBar\n",
    "\n",
    "# Bokeh for plotting.\n",
    "utils.require_package(\"bokeh\")\n",
    "import bokeh.plotting as bp\n",
    "from bokeh.models import HoverTool\n",
    "bp.output_notebook()"
   ]
  },
  {
   "cell_type": "markdown",
   "metadata": {},
   "source": [
    "## Corpus Statistics\n",
    "\n",
    "NLTK includes a number of corpora that we can experiment with for this exercise. Different types of text can have very different N-gram distributions, and some are more difficult to model than others.\n",
    "\n",
    "Let's start with the [Brown corpus](http://www.essex.ac.uk/linguistics/external/clmt/w3c/corpus_ling/content/corpora/list/private/brown/brown.html), the first major computer-readable linguistic corpus. It consists of around 1 million words of American English, sampled from 15 different text categories ranging from news text to academic articles to popular fiction.\n",
    "\n",
    "If you haven't yet run `nltk.download()`, the cell below will download the Brown corpus for you."
   ]
  },
  {
   "cell_type": "code",
   "execution_count": 2,
   "metadata": {},
   "outputs": [
    {
     "name": "stdout",
     "output_type": "stream",
     "text": [
      "[nltk_data] Downloading package brown to /home/yeunghoman/nltk_data...\n",
      "[nltk_data]   Package brown is already up-to-date!\n"
     ]
    },
    {
     "data": {
      "text/plain": [
       "True"
      ]
     },
     "execution_count": 2,
     "metadata": {},
     "output_type": "execute_result"
    }
   ],
   "source": [
    "nltk.download('brown')"
   ]
  },
  {
   "cell_type": "markdown",
   "metadata": {},
   "source": [
    "Let's start by looking at the all the words in the corpus, and looking at some basic statistics.\n",
    "\n",
    "We've built a helper class, `Vocabulary`, that ingests a list of words, counts their frequencies, and assigns each one a numerical ID that will be useful later on."
   ]
  },
  {
   "cell_type": "code",
   "execution_count": 2,
   "metadata": {},
   "outputs": [
    {
     "name": "stderr",
     "output_type": "stream",
     "text": [
      "1161192it [00:08, 134647.79it/s]\n"
     ]
    },
    {
     "name": "stdout",
     "output_type": "stream",
     "text": [
      "Vocabulary size: 48,174\n",
      "Most common unigrams:\n",
      "\"the\": 69,971\n",
      "\",\": 58,334\n",
      "\".\": 49,346\n",
      "\"of\": 36,412\n",
      "\"and\": 28,853\n",
      "\"to\": 26,158\n",
      "\"a\": 23,195\n",
      "\"in\": 21,337\n",
      "\"that\": 10,594\n",
      "\"is\": 10,109\n"
     ]
    }
   ],
   "source": [
    "corpus = nltk.corpus.brown\n",
    "\n",
    "# \"canonicalize_word\" performs a few tweaks to the token stream of\n",
    "# the corpus.  For example, it replaces digits with DG allowing numbers\n",
    "# to aggregate together when we count them below.\n",
    "# You can read the details in utils.py if you're really curious.\n",
    "token_feed = (utils.canonicalize_word(w) for w in corpus.words())\n",
    "\n",
    "# Collect counts of tokens and assign wordids.\n",
    "vocab = vocabulary.Vocabulary(token_feed, progressbar=ProgressBar)\n",
    "print(\"Vocabulary size: {:,}\".format(vocab.size))\n",
    "\n",
    "# Print out some (debugging) statistics to make sure everything went\n",
    "# as we expected.  (Unsurprisingly, you should see \"the\" as the most popular word.)\n",
    "print(\"Most common unigrams:\")\n",
    "for word, count in vocab.unigram_counts.most_common(10):\n",
    "    print(\"\\\"{:s}\\\": {:,}\".format(word, count))"
   ]
  },
  {
   "cell_type": "markdown",
   "metadata": {},
   "source": [
    "`Vocabulary.unigram_counts` is a dictionary (actually, `collections.Counter`) of the unigram frequencies $c(w)$. Let's look at a plot of the top frequencies:"
   ]
  },
  {
   "cell_type": "code",
   "execution_count": 11,
   "metadata": {},
   "outputs": [
    {
     "data": {
      "text/plain": [
       "48172"
      ]
     },
     "execution_count": 11,
     "metadata": {},
     "output_type": "execute_result"
    }
   ],
   "source": [
    "vocab.num_bigrams"
   ]
  },
  {
   "cell_type": "code",
   "execution_count": 4,
   "metadata": {},
   "outputs": [
    {
     "data": {
      "text/plain": [
       "[('the', 69971),\n",
       " (',', 58334),\n",
       " ('.', 49346),\n",
       " ('of', 36412),\n",
       " ('and', 28853),\n",
       " ('to', 26158),\n",
       " ('a', 23195),\n",
       " ('in', 21337),\n",
       " ('that', 10594),\n",
       " ('is', 10109),\n",
       " ('was', 9815),\n",
       " ('he', 9548),\n",
       " ('for', 9489),\n",
       " ('``', 8837),\n",
       " (\"''\", 8789),\n",
       " ('it', 8760),\n",
       " ('with', 7289),\n",
       " ('as', 7253),\n",
       " ('his', 6996),\n",
       " ('on', 6741)]"
      ]
     },
     "execution_count": 4,
     "metadata": {},
     "output_type": "execute_result"
    }
   ],
   "source": [
    "vocab.unigram_counts.most_common(20)"
   ]
  },
  {
   "cell_type": "code",
   "execution_count": 4,
   "metadata": {},
   "outputs": [
    {
     "data": {
      "text/html": [
       "\n",
       "<div class=\"bk-root\">\n",
       "    <div class=\"bk-plotdiv\" id=\"beb892c9-3dac-4152-88ba-6c87c8960b53\"></div>\n",
       "</div>"
      ]
     },
     "metadata": {},
     "output_type": "display_data"
    },
    {
     "data": {
      "application/javascript": [
       "(function(root) {\n",
       "  function embed_document(root) {\n",
       "    var docs_json = {\"09c42697-989c-4693-b0e0-d26669135ceb\":{\"roots\":{\"references\":[{\"attributes\":{\"callback\":null,\"mode\":\"vline\",\"tooltips\":[[\"word\",\"@x\"],[\"count\",\"@top\"]]},\"id\":\"b5423619-c3d5-4267-9693-e6b72b24e171\",\"type\":\"HoverTool\"},{\"attributes\":{},\"id\":\"3745a807-79b7-45cf-ad05-0b475e7a57bb\",\"type\":\"CategoricalScale\"},{\"attributes\":{\"below\":[{\"id\":\"41363fe3-1ff2-462c-9f2e-a7aa7ca700ec\",\"type\":\"CategoricalAxis\"}],\"left\":[{\"id\":\"a21015af-1848-486f-a6fb-cfeabc8ce62f\",\"type\":\"LinearAxis\"}],\"plot_height\":400,\"plot_width\":800,\"renderers\":[{\"id\":\"41363fe3-1ff2-462c-9f2e-a7aa7ca700ec\",\"type\":\"CategoricalAxis\"},{\"id\":\"4fd8b9ba-d70e-4231-8331-a3347ef88c57\",\"type\":\"Grid\"},{\"id\":\"a21015af-1848-486f-a6fb-cfeabc8ce62f\",\"type\":\"LinearAxis\"},{\"id\":\"5fa07406-3b4c-4c4e-a3e6-921ee3dde662\",\"type\":\"Grid\"},{\"id\":\"d910d7cc-d12c-475c-afe6-c9e2f6f383fb\",\"type\":\"GlyphRenderer\"}],\"title\":{\"id\":\"da177b68-aeb1-4e45-8887-552f6210db3e\",\"type\":\"Title\"},\"toolbar\":{\"id\":\"9b82461a-a559-4ea3-8426-c484bd11fcfa\",\"type\":\"Toolbar\"},\"x_range\":{\"id\":\"83938b64-1d13-4cc5-8201-d1bf0db464ef\",\"type\":\"FactorRange\"},\"x_scale\":{\"id\":\"3745a807-79b7-45cf-ad05-0b475e7a57bb\",\"type\":\"CategoricalScale\"},\"y_range\":{\"id\":\"f0d7f0d8-7c7e-486d-9ab7-1e32c3365d06\",\"type\":\"DataRange1d\"},\"y_scale\":{\"id\":\"0df71306-7398-41f6-98f2-194f059d7d02\",\"type\":\"LinearScale\"}},\"id\":\"1eb79c39-9766-4145-9e0f-04ddde5b8f9b\",\"subtype\":\"Figure\",\"type\":\"Plot\"},{\"attributes\":{},\"id\":\"0df71306-7398-41f6-98f2-194f059d7d02\",\"type\":\"LinearScale\"},{\"attributes\":{\"dimension\":1,\"plot\":{\"id\":\"1eb79c39-9766-4145-9e0f-04ddde5b8f9b\",\"subtype\":\"Figure\",\"type\":\"Plot\"},\"ticker\":{\"id\":\"7b73bc8a-796d-4150-9c87-02c0a97332a2\",\"type\":\"BasicTicker\"}},\"id\":\"5fa07406-3b4c-4c4e-a3e6-921ee3dde662\",\"type\":\"Grid\"},{\"attributes\":{\"axis_label\":\"Count(w)\",\"formatter\":{\"id\":\"9bb19b7c-d290-468c-b12f-8e8664d834fd\",\"type\":\"BasicTickFormatter\"},\"plot\":{\"id\":\"1eb79c39-9766-4145-9e0f-04ddde5b8f9b\",\"subtype\":\"Figure\",\"type\":\"Plot\"},\"ticker\":{\"id\":\"7b73bc8a-796d-4150-9c87-02c0a97332a2\",\"type\":\"BasicTicker\"}},\"id\":\"a21015af-1848-486f-a6fb-cfeabc8ce62f\",\"type\":\"LinearAxis\"},{\"attributes\":{\"plot\":{\"id\":\"1eb79c39-9766-4145-9e0f-04ddde5b8f9b\",\"subtype\":\"Figure\",\"type\":\"Plot\"},\"ticker\":{\"id\":\"5392d205-24fa-4395-b267-2e2509fc7ab2\",\"type\":\"CategoricalTicker\"}},\"id\":\"4fd8b9ba-d70e-4231-8331-a3347ef88c57\",\"type\":\"Grid\"},{\"attributes\":{\"active_drag\":\"auto\",\"active_inspect\":\"auto\",\"active_scroll\":\"auto\",\"active_tap\":\"auto\",\"tools\":[{\"id\":\"b5423619-c3d5-4267-9693-e6b72b24e171\",\"type\":\"HoverTool\"}]},\"id\":\"9b82461a-a559-4ea3-8426-c484bd11fcfa\",\"type\":\"Toolbar\"},{\"attributes\":{\"plot\":null,\"text\":\"\"},\"id\":\"da177b68-aeb1-4e45-8887-552f6210db3e\",\"type\":\"Title\"},{\"attributes\":{},\"id\":\"7b73bc8a-796d-4150-9c87-02c0a97332a2\",\"type\":\"BasicTicker\"},{\"attributes\":{\"callback\":null,\"column_names\":[\"x\",\"top\"],\"data\":{\"top\":[69971,58334,49346,36412,28853,26158,23195,21337,10594,10109,9815,9548,9489,8837,8789,8760,7289,7253,6996,6741],\"x\":[\"the\",\",\",\".\",\"of\",\"and\",\"to\",\"a\",\"in\",\"that\",\"is\",\"was\",\"he\",\"for\",\"``\",\"''\",\"it\",\"with\",\"as\",\"his\",\"on\"]}},\"id\":\"b34a728c-23d3-4aca-b444-c655143a9edb\",\"type\":\"ColumnDataSource\"},{\"attributes\":{\"source\":{\"id\":\"b34a728c-23d3-4aca-b444-c655143a9edb\",\"type\":\"ColumnDataSource\"}},\"id\":\"4e191f02-eb6a-4a40-9f7d-cf5f13519d57\",\"type\":\"CDSView\"},{\"attributes\":{},\"id\":\"9ca39d41-b047-4014-9d07-e8162a74f9b4\",\"type\":\"CategoricalTickFormatter\"},{\"attributes\":{\"callback\":null,\"start\":0},\"id\":\"f0d7f0d8-7c7e-486d-9ab7-1e32c3365d06\",\"type\":\"DataRange1d\"},{\"attributes\":{\"formatter\":{\"id\":\"9ca39d41-b047-4014-9d07-e8162a74f9b4\",\"type\":\"CategoricalTickFormatter\"},\"plot\":{\"id\":\"1eb79c39-9766-4145-9e0f-04ddde5b8f9b\",\"subtype\":\"Figure\",\"type\":\"Plot\"},\"ticker\":{\"id\":\"5392d205-24fa-4395-b267-2e2509fc7ab2\",\"type\":\"CategoricalTicker\"}},\"id\":\"41363fe3-1ff2-462c-9f2e-a7aa7ca700ec\",\"type\":\"CategoricalAxis\"},{\"attributes\":{\"fill_color\":{\"value\":\"firebrick\"},\"line_color\":{\"value\":\"#1f77b4\"},\"top\":{\"field\":\"top\"},\"width\":{\"value\":0.8},\"x\":{\"field\":\"x\"}},\"id\":\"91d4c18b-4dcb-42a3-b95b-82c0ec9b0790\",\"type\":\"VBar\"},{\"attributes\":{},\"id\":\"5392d205-24fa-4395-b267-2e2509fc7ab2\",\"type\":\"CategoricalTicker\"},{\"attributes\":{\"callback\":null,\"factors\":[\"the\",\",\",\".\",\"of\",\"and\",\"to\",\"a\",\"in\",\"that\",\"is\",\"was\",\"he\",\"for\",\"``\",\"''\",\"it\",\"with\",\"as\",\"his\",\"on\"]},\"id\":\"83938b64-1d13-4cc5-8201-d1bf0db464ef\",\"type\":\"FactorRange\"},{\"attributes\":{},\"id\":\"9bb19b7c-d290-468c-b12f-8e8664d834fd\",\"type\":\"BasicTickFormatter\"},{\"attributes\":{\"fill_color\":{\"value\":\"#1f77b4\"},\"line_color\":{\"value\":\"#1f77b4\"},\"top\":{\"field\":\"top\"},\"width\":{\"value\":0.8},\"x\":{\"field\":\"x\"}},\"id\":\"393a9c55-1925-4434-a923-0cfd68f55b8d\",\"type\":\"VBar\"},{\"attributes\":{\"data_source\":{\"id\":\"b34a728c-23d3-4aca-b444-c655143a9edb\",\"type\":\"ColumnDataSource\"},\"glyph\":{\"id\":\"393a9c55-1925-4434-a923-0cfd68f55b8d\",\"type\":\"VBar\"},\"hover_glyph\":{\"id\":\"91d4c18b-4dcb-42a3-b95b-82c0ec9b0790\",\"type\":\"VBar\"},\"muted_glyph\":null,\"nonselection_glyph\":{\"id\":\"af4d2658-ab42-4486-965f-3403c2689088\",\"type\":\"VBar\"},\"selection_glyph\":null,\"view\":{\"id\":\"4e191f02-eb6a-4a40-9f7d-cf5f13519d57\",\"type\":\"CDSView\"}},\"id\":\"d910d7cc-d12c-475c-afe6-c9e2f6f383fb\",\"type\":\"GlyphRenderer\"},{\"attributes\":{\"fill_alpha\":{\"value\":0.1},\"fill_color\":{\"value\":\"#1f77b4\"},\"line_alpha\":{\"value\":0.1},\"line_color\":{\"value\":\"#1f77b4\"},\"top\":{\"field\":\"top\"},\"width\":{\"value\":0.8},\"x\":{\"field\":\"x\"}},\"id\":\"af4d2658-ab42-4486-965f-3403c2689088\",\"type\":\"VBar\"}],\"root_ids\":[\"1eb79c39-9766-4145-9e0f-04ddde5b8f9b\"]},\"title\":\"Bokeh Application\",\"version\":\"0.12.10\"}};\n",
       "    var render_items = [{\"docid\":\"09c42697-989c-4693-b0e0-d26669135ceb\",\"elementid\":\"beb892c9-3dac-4152-88ba-6c87c8960b53\",\"modelid\":\"1eb79c39-9766-4145-9e0f-04ddde5b8f9b\"}];\n",
       "\n",
       "    root.Bokeh.embed.embed_items(docs_json, render_items);\n",
       "  }\n",
       "\n",
       "  if (root.Bokeh !== undefined) {\n",
       "    embed_document(root);\n",
       "  } else {\n",
       "    var attempts = 0;\n",
       "    var timer = setInterval(function(root) {\n",
       "      if (root.Bokeh !== undefined) {\n",
       "        embed_document(root);\n",
       "        clearInterval(timer);\n",
       "      }\n",
       "      attempts++;\n",
       "      if (attempts > 100) {\n",
       "        console.log(\"Bokeh: ERROR: Unable to embed document because BokehJS library is missing\")\n",
       "        clearInterval(timer);\n",
       "      }\n",
       "    }, 10, root)\n",
       "  }\n",
       "})(window);"
      ],
      "application/vnd.bokehjs_exec.v0+json": ""
     },
     "metadata": {
      "application/vnd.bokehjs_exec.v0+json": {
       "id": "1eb79c39-9766-4145-9e0f-04ddde5b8f9b"
      }
     },
     "output_type": "display_data"
    }
   ],
   "source": [
    "words, counts = zip(*vocab.unigram_counts.most_common(20))\n",
    "\n",
    "hover = HoverTool(tooltips=[(\"word\", \"@x\"), (\"count\", \"@top\")], mode=\"vline\")\n",
    "fig = bp.figure(x_range=words, plot_width=800, plot_height=400, tools=[hover])\n",
    "fig.vbar(x=words, width=0.8, top=counts, hover_fill_color=\"firebrick\")\n",
    "fig.y_range.start = 0\n",
    "fig.yaxis.axis_label = \"Count(w)\"\n",
    "bp.show(fig)"
   ]
  },
  {
   "cell_type": "markdown",
   "metadata": {},
   "source": [
    "You'll notice that it falls off very quickly! It also flattens out a lot after the initial dip.  Recall that word frequencies tend to follow **Zipf's law**, in that they are rougly proportional to $\\frac{1}{\\mathrm{rank}(w)}$, where rank = 1 for the most common word, 2 for the second-most, etc. We can test this directly with a numerical fit:"
   ]
  },
  {
   "cell_type": "code",
   "execution_count": 7,
   "metadata": {},
   "outputs": [
    {
     "name": "stdout",
     "output_type": "stream",
     "text": [
      "Power law exponent: β = -1.32\n"
     ]
    },
    {
     "name": "stderr",
     "output_type": "stream",
     "text": [
      "/home/yeunghoman/anaconda3/lib/python3.6/site-packages/ipykernel_launcher.py:14: RuntimeWarning: invalid value encountered in log\n",
      "  \n"
     ]
    },
    {
     "data": {
      "text/html": [
       "\n",
       "<div class=\"bk-root\">\n",
       "    <div class=\"bk-plotdiv\" id=\"50b9136a-a25d-4a38-8606-f79f8b859071\"></div>\n",
       "</div>"
      ]
     },
     "metadata": {},
     "output_type": "display_data"
    },
    {
     "data": {
      "application/javascript": [
       "(function(root) {\n",
       "  function embed_document(root) {\n",
       "    var docs_json = {\"15fd28e2-d7e4-4671-8086-3680d899a6ac\":{\"roots\":{\"references\":[{\"attributes\":{\"overlay\":{\"id\":\"2b968e83-bef4-4a51-aa70-a0dd6ef23538\",\"type\":\"BoxAnnotation\"}},\"id\":\"8148001e-35a5-4a27-a0a1-6c756c98554a\",\"type\":\"BoxZoomTool\"},{\"attributes\":{\"dimension\":1,\"plot\":{\"id\":\"2fbd255c-d5fb-4f4f-bb41-26cdfd7bad74\",\"subtype\":\"Figure\",\"type\":\"Plot\"},\"ticker\":{\"id\":\"5d032746-13e7-48d3-8cfd-97880fa6b55d\",\"type\":\"BasicTicker\"}},\"id\":\"c266e411-0a4f-4bba-9180-9821231c9642\",\"type\":\"Grid\"},{\"attributes\":{\"plot\":null,\"text\":\"\"},\"id\":\"500f9af2-56c1-4564-8370-c533eb0eeb4f\",\"type\":\"Title\"},{\"attributes\":{},\"id\":\"a22e3a60-2461-413d-b7fd-321df3e254db\",\"type\":\"BasicTickFormatter\"},{\"attributes\":{\"bottom_units\":\"screen\",\"fill_alpha\":{\"value\":0.5},\"fill_color\":{\"value\":\"lightgrey\"},\"left_units\":\"screen\",\"level\":\"overlay\",\"line_alpha\":{\"value\":1.0},\"line_color\":{\"value\":\"black\"},\"line_dash\":[4,4],\"line_width\":{\"value\":2},\"plot\":null,\"render_mode\":\"css\",\"right_units\":\"screen\",\"top_units\":\"screen\"},\"id\":\"2b968e83-bef4-4a51-aa70-a0dd6ef23538\",\"type\":\"BoxAnnotation\"},{\"attributes\":{},\"id\":\"5d032746-13e7-48d3-8cfd-97880fa6b55d\",\"type\":\"BasicTicker\"},{\"attributes\":{\"callback\":null,\"mode\":\"vline\",\"renderers\":[{\"id\":\"8f62d88b-ae65-46fc-899e-3c2f258c5419\",\"type\":\"GlyphRenderer\"}],\"tooltips\":[[\"word\",\"@x\"],[\"count\",\"@top\"]]},\"id\":\"f61b24c0-0649-4446-857c-59b17ff2d86c\",\"type\":\"HoverTool\"},{\"attributes\":{\"source\":{\"id\":\"253b9527-9c39-4bcb-9228-9a814e5b51e6\",\"type\":\"ColumnDataSource\"}},\"id\":\"7b5d115f-671c-4f91-8476-72e58a1f02ea\",\"type\":\"CDSView\"},{\"attributes\":{},\"id\":\"e9188779-8602-4427-b957-8e3a5efeaeaf\",\"type\":\"LinearScale\"},{\"attributes\":{},\"id\":\"24e3ea7a-d595-439f-9f1f-50a83e18a280\",\"type\":\"CategoricalScale\"},{\"attributes\":{\"axis_label\":\"Count(w)\",\"formatter\":{\"id\":\"a22e3a60-2461-413d-b7fd-321df3e254db\",\"type\":\"BasicTickFormatter\"},\"plot\":{\"id\":\"2fbd255c-d5fb-4f4f-bb41-26cdfd7bad74\",\"subtype\":\"Figure\",\"type\":\"Plot\"},\"ticker\":{\"id\":\"5d032746-13e7-48d3-8cfd-97880fa6b55d\",\"type\":\"BasicTicker\"}},\"id\":\"85e4ea99-0d5e-49a5-b4ed-4603c03a67ab\",\"type\":\"LinearAxis\"},{\"attributes\":{\"callback\":null,\"column_names\":[\"x\",\"y\"],\"data\":{\"x\":[\"the\",\",\",\".\",\"of\",\"and\",\"to\",\"a\",\"in\",\"that\",\"is\",\"was\",\"he\",\"for\",\"``\",\"''\",\"it\",\"with\",\"as\",\"his\",\"on\",\"be\",\";\",\"at\",\"by\",\"i\",\"this\",\"had\",\"?\",\"not\",\"are\",\"but\",\"from\",\"or\",\"have\",\"an\",\"they\",\"which\",\"--\",\"one\",\"you\",\"were\",\"her\",\"all\",\"she\",\"there\",\"would\",\"their\",\"we\",\"him\",\"been\",\")\",\"has\",\"(\",\"when\",\"who\",\"will\",\"more\",\"if\",\"no\",\"out\",\"DG\",\"so\",\"said\",\"DGDGDGDG\",\"DGDG\",\"what\",\"up\",\"its\",\"about\",\":\",\"into\",\"than\",\"them\",\"can\",\"only\",\"other\",\"new\",\"some\",\"could\",\"time\",\"!\",\"these\",\"two\",\"may\",\"then\",\"do\",\"first\",\"any\",\"my\",\"now\",\"such\",\"like\",\"our\",\"over\",\"man\",\"me\",\"even\",\"most\",\"made\",\"also\"],\"y\":{\"__ndarray__\":\"AAAAAPBuE0EAAAAAkDD/QAAAAAAQSPJAAAAAAGAH6UAAAAAAYKfiQAAAAABAV91AAAAAAMDy10AAAAAAwBXUQAAAAADAMtFAAAAAAADwzUAAAAAAAGjKQAAAAACAi8dAAAAAAIAwxUAAAAAAADjDQAAAAACAjMFAAAAAAAAewEAAAAAAAMO9QAAAAAAAmrtAAAAAAAC0uUAAAAAAAAa4QAAAAAAAh7ZAAAAAAAAxtUAAAAAAAPyzQAAAAAAA5bJAAAAAAADosUAAAAAAAAGxQAAAAAAALrBAAAAAAADYrkAAAAAAAHStQAAAAAAAKqxAAAAAAAD6qkAAAAAAAN6pQAAAAAAA2KhAAAAAAADip0AAAAAAAPymQAAAAAAAJqZAAAAAAABepUAAAAAAAKCkQAAAAAAA7qNAAAAAAABIo0AAAAAAAKqiQAAAAAAAFKJAAAAAAACGoUAAAAAAAAKhQAAAAAAAgqBAAAAAAAAKoEAAAAAAACyfQAAAAAAAVJ5AAAAAAACEnUAAAAAAALycQAAAAAAAAJxAAAAAAABMm0AAAAAAAJyaQAAAAAAA+JlAAAAAAABYmUAAAAAAAMCYQAAAAAAAMJhAAAAAAACkl0AAAAAAAByXQAAAAAAAmJZAAAAAAAAclkAAAAAAAKSVQAAAAAAAMJVAAAAAAADElEAAAAAAAFiUQAAAAAAA8JNAAAAAAACMk0AAAAAAACyTQAAAAAAAzJJAAAAAAAB0kkAAAAAAABySQAAAAAAAyJFAAAAAAAB0kUAAAAAAACSRQAAAAAAA2JBAAAAAAACMkEAAAAAAAESQQAAAAAAAAJBAAAAAAAB4j0AAAAAAAPCOQAAAAAAAcI5AAAAAAADwjUAAAAAAAHiNQAAAAAAACI1AAAAAAACQjEAAAAAAACCMQAAAAAAAuItAAAAAAABIi0AAAAAAAOCKQAAAAAAAgIpAAAAAAAAgikAAAAAAAMCJQAAAAAAAYIlAAAAAAAAIiUAAAAAAALCIQAAAAAAAWIhAAAAAAAAAiEAAAAAAALCHQAAAAAAAYIdAAAAAAAAQh0A=\",\"dtype\":\"float64\",\"shape\":[100]}}},\"id\":\"d62f2725-29f6-498a-ba33-e22148d04271\",\"type\":\"ColumnDataSource\"},{\"attributes\":{\"active_drag\":\"auto\",\"active_inspect\":\"auto\",\"active_scroll\":\"auto\",\"active_tap\":\"auto\",\"tools\":[{\"id\":\"becb11b4-83eb-49b9-8b81-08424da20857\",\"type\":\"PanTool\"},{\"id\":\"790184bd-3bdc-4b24-997d-1a86d239153d\",\"type\":\"WheelZoomTool\"},{\"id\":\"8148001e-35a5-4a27-a0a1-6c756c98554a\",\"type\":\"BoxZoomTool\"},{\"id\":\"8ea0fb1f-ee66-4185-bdb6-898a036eef5e\",\"type\":\"SaveTool\"},{\"id\":\"906d01fe-22d6-4447-99d4-772a49c0b4a8\",\"type\":\"ResetTool\"},{\"id\":\"56c4b4ea-194f-4157-a4e8-c7585e16ca27\",\"type\":\"HelpTool\"},{\"id\":\"f61b24c0-0649-4446-857c-59b17ff2d86c\",\"type\":\"HoverTool\"}]},\"id\":\"e52400d8-8809-46b7-a21b-9d237fe446f5\",\"type\":\"Toolbar\"},{\"attributes\":{},\"id\":\"906d01fe-22d6-4447-99d4-772a49c0b4a8\",\"type\":\"ResetTool\"},{\"attributes\":{\"formatter\":{\"id\":\"cd26ba69-ef08-4083-8687-6c50a7c6d92c\",\"type\":\"CategoricalTickFormatter\"},\"plot\":{\"id\":\"2fbd255c-d5fb-4f4f-bb41-26cdfd7bad74\",\"subtype\":\"Figure\",\"type\":\"Plot\"},\"ticker\":{\"id\":\"81028372-565f-419e-91f3-ce037cbf880d\",\"type\":\"CategoricalTicker\"}},\"id\":\"060a625e-e52d-423c-8759-515ea1628d8e\",\"type\":\"CategoricalAxis\"},{\"attributes\":{\"fill_alpha\":{\"value\":0.1},\"fill_color\":{\"value\":\"#1f77b4\"},\"line_alpha\":{\"value\":0.1},\"line_color\":{\"value\":\"#1f77b4\"},\"top\":{\"field\":\"top\"},\"width\":{\"value\":0.8},\"x\":{\"field\":\"x\"}},\"id\":\"464898b7-6a94-41be-8e59-46b49af04914\",\"type\":\"VBar\"},{\"attributes\":{\"fill_color\":{\"value\":\"firebrick\"},\"line_color\":{\"value\":\"#1f77b4\"},\"top\":{\"field\":\"top\"},\"width\":{\"value\":0.8},\"x\":{\"field\":\"x\"}},\"id\":\"b606f7b4-b498-4d11-8679-71e694b6f30e\",\"type\":\"VBar\"},{\"attributes\":{},\"id\":\"8ea0fb1f-ee66-4185-bdb6-898a036eef5e\",\"type\":\"SaveTool\"},{\"attributes\":{},\"id\":\"56c4b4ea-194f-4157-a4e8-c7585e16ca27\",\"type\":\"HelpTool\"},{\"attributes\":{},\"id\":\"81028372-565f-419e-91f3-ce037cbf880d\",\"type\":\"CategoricalTicker\"},{\"attributes\":{},\"id\":\"cd26ba69-ef08-4083-8687-6c50a7c6d92c\",\"type\":\"CategoricalTickFormatter\"},{\"attributes\":{\"callback\":null,\"column_names\":[\"x\",\"top\"],\"data\":{\"top\":{\"__ndarray__\":\"AAAAADAV8UAAAAAAwHvsQAAAAABAGOhAAAAAAIDH4UAAAAAAQC3cQAAAAACAi9lAAAAAAMCm1kAAAAAAQNbUQAAAAAAAscRAAAAAAIC+w0AAAAAAgCvDQAAAAAAApsJAAAAAAICIwkAAAAAAgELBQAAAAACAKsFAAAAAAAAcwUAAAAAAAHm8QAAAAAAAVbxAAAAAAABUu0AAAAAAAFW6QAAAAAAA6bhAAAAAAAC+tUAAAAAAAPy0QAAAAAAAurRAAAAAAAAstEAAAAAAABm0QAAAAAAADbRAAAAAAABVskAAAAAAAAKyQAAAAAAAKrFAAAAAAAAdsUAAAAAAABKxQAAAAAAAbrBAAAAAAADMrkAAAAAAADitQAAAAAAASKxAAAAAAADSq0AAAAAAANCqQAAAAAAAuKlAAAAAAACsqUAAAAAAAKipQAAAAAAAuKdAAAAAAAByp0AAAAAAAFimQAAAAAAAUKVAAAAAAAA0pUAAAAAAANqkQAAAAAAAuKRAAAAAAAB2pEAAAAAAAFCjQAAAAAAARKNAAAAAAAAKo0AAAAAAAAajQAAAAAAANqJAAAAAAACYoUAAAAAAAIqhQAAAAAAATqFAAAAAAAAsoUAAAAAAALagQAAAAAAAYqBAAAAAAABYn0AAAAAAAASfQAAAAAAApJ5AAAAAAAAgnkAAAAAAAOydQAAAAAAA0J1AAAAAAACInUAAAAAAAAidQAAAAAAAXJxAAAAAAAAMnEAAAAAAAPybQAAAAAAA+JtAAAAAAADwm0AAAAAAALCbQAAAAAAAUJtAAAAAAACYmkAAAAAAAIyZQAAAAAAASJlAAAAAAAAEmUAAAAAAAPiYQAAAAAAA8JhAAAAAAACUmEAAAAAAABCWQAAAAAAA6JVAAAAAAACQlUAAAAAAAEyVQAAAAAAARJVAAAAAAAAAlUAAAAAAAJiUQAAAAAAAiJRAAAAAAABclEAAAAAAADCUQAAAAAAAkJNAAAAAAABQk0AAAAAAANySQAAAAAAAdJJAAAAAAABIkkAAAAAAABySQAAAAAAAlJFAAAAAAAC0kEA=\",\"dtype\":\"float64\",\"shape\":[100]},\"x\":[\"the\",\",\",\".\",\"of\",\"and\",\"to\",\"a\",\"in\",\"that\",\"is\",\"was\",\"he\",\"for\",\"``\",\"''\",\"it\",\"with\",\"as\",\"his\",\"on\",\"be\",\";\",\"at\",\"by\",\"i\",\"this\",\"had\",\"?\",\"not\",\"are\",\"but\",\"from\",\"or\",\"have\",\"an\",\"they\",\"which\",\"--\",\"one\",\"you\",\"were\",\"her\",\"all\",\"she\",\"there\",\"would\",\"their\",\"we\",\"him\",\"been\",\")\",\"has\",\"(\",\"when\",\"who\",\"will\",\"more\",\"if\",\"no\",\"out\",\"DG\",\"so\",\"said\",\"DGDGDGDG\",\"DGDG\",\"what\",\"up\",\"its\",\"about\",\":\",\"into\",\"than\",\"them\",\"can\",\"only\",\"other\",\"new\",\"some\",\"could\",\"time\",\"!\",\"these\",\"two\",\"may\",\"then\",\"do\",\"first\",\"any\",\"my\",\"now\",\"such\",\"like\",\"our\",\"over\",\"man\",\"me\",\"even\",\"most\",\"made\",\"also\"]}},\"id\":\"253b9527-9c39-4bcb-9228-9a814e5b51e6\",\"type\":\"ColumnDataSource\"},{\"attributes\":{\"grid_line_alpha\":{\"value\":0.5},\"plot\":{\"id\":\"2fbd255c-d5fb-4f4f-bb41-26cdfd7bad74\",\"subtype\":\"Figure\",\"type\":\"Plot\"},\"ticker\":{\"id\":\"81028372-565f-419e-91f3-ce037cbf880d\",\"type\":\"CategoricalTicker\"}},\"id\":\"1bce1226-8543-4eeb-bb49-85f50b2e028a\",\"type\":\"Grid\"},{\"attributes\":{\"fill_color\":{\"value\":\"#1f77b4\"},\"line_color\":{\"value\":\"#1f77b4\"},\"top\":{\"field\":\"top\"},\"width\":{\"value\":0.8},\"x\":{\"field\":\"x\"}},\"id\":\"bb181d2f-c72a-499b-89f0-ecd1e5f5da5d\",\"type\":\"VBar\"},{\"attributes\":{\"callback\":null,\"end\":83965.2,\"start\":0},\"id\":\"6bd74dae-cd86-45fd-8acb-82f71a5316a5\",\"type\":\"DataRange1d\"},{\"attributes\":{\"line_color\":{\"value\":\"Orange\"},\"line_width\":{\"value\":2},\"x\":{\"field\":\"x\"},\"y\":{\"field\":\"y\"}},\"id\":\"84a9055f-af70-4ce6-a981-e907d1c4e365\",\"type\":\"Line\"},{\"attributes\":{\"below\":[{\"id\":\"060a625e-e52d-423c-8759-515ea1628d8e\",\"type\":\"CategoricalAxis\"}],\"left\":[{\"id\":\"85e4ea99-0d5e-49a5-b4ed-4603c03a67ab\",\"type\":\"LinearAxis\"}],\"plot_height\":400,\"plot_width\":800,\"renderers\":[{\"id\":\"060a625e-e52d-423c-8759-515ea1628d8e\",\"type\":\"CategoricalAxis\"},{\"id\":\"1bce1226-8543-4eeb-bb49-85f50b2e028a\",\"type\":\"Grid\"},{\"id\":\"85e4ea99-0d5e-49a5-b4ed-4603c03a67ab\",\"type\":\"LinearAxis\"},{\"id\":\"c266e411-0a4f-4bba-9180-9821231c9642\",\"type\":\"Grid\"},{\"id\":\"2b968e83-bef4-4a51-aa70-a0dd6ef23538\",\"type\":\"BoxAnnotation\"},{\"id\":\"8f62d88b-ae65-46fc-899e-3c2f258c5419\",\"type\":\"GlyphRenderer\"},{\"id\":\"9eed043a-3241-4bc8-926e-2b107730b63d\",\"type\":\"GlyphRenderer\"}],\"title\":{\"id\":\"500f9af2-56c1-4564-8370-c533eb0eeb4f\",\"type\":\"Title\"},\"toolbar\":{\"id\":\"e52400d8-8809-46b7-a21b-9d237fe446f5\",\"type\":\"Toolbar\"},\"x_range\":{\"id\":\"ca82da9e-fdb0-41c0-bf21-cf4673a8b969\",\"type\":\"FactorRange\"},\"x_scale\":{\"id\":\"24e3ea7a-d595-439f-9f1f-50a83e18a280\",\"type\":\"CategoricalScale\"},\"y_range\":{\"id\":\"6bd74dae-cd86-45fd-8acb-82f71a5316a5\",\"type\":\"DataRange1d\"},\"y_scale\":{\"id\":\"e9188779-8602-4427-b957-8e3a5efeaeaf\",\"type\":\"LinearScale\"}},\"id\":\"2fbd255c-d5fb-4f4f-bb41-26cdfd7bad74\",\"subtype\":\"Figure\",\"type\":\"Plot\"},{\"attributes\":{\"data_source\":{\"id\":\"253b9527-9c39-4bcb-9228-9a814e5b51e6\",\"type\":\"ColumnDataSource\"},\"glyph\":{\"id\":\"bb181d2f-c72a-499b-89f0-ecd1e5f5da5d\",\"type\":\"VBar\"},\"hover_glyph\":{\"id\":\"b606f7b4-b498-4d11-8679-71e694b6f30e\",\"type\":\"VBar\"},\"muted_glyph\":null,\"nonselection_glyph\":{\"id\":\"464898b7-6a94-41be-8e59-46b49af04914\",\"type\":\"VBar\"},\"selection_glyph\":null,\"view\":{\"id\":\"7b5d115f-671c-4f91-8476-72e58a1f02ea\",\"type\":\"CDSView\"}},\"id\":\"8f62d88b-ae65-46fc-899e-3c2f258c5419\",\"type\":\"GlyphRenderer\"},{\"attributes\":{\"source\":{\"id\":\"d62f2725-29f6-498a-ba33-e22148d04271\",\"type\":\"ColumnDataSource\"}},\"id\":\"7e76ebf5-a16b-4069-be66-5296d2df3894\",\"type\":\"CDSView\"},{\"attributes\":{},\"id\":\"becb11b4-83eb-49b9-8b81-08424da20857\",\"type\":\"PanTool\"},{\"attributes\":{},\"id\":\"790184bd-3bdc-4b24-997d-1a86d239153d\",\"type\":\"WheelZoomTool\"},{\"attributes\":{\"data_source\":{\"id\":\"d62f2725-29f6-498a-ba33-e22148d04271\",\"type\":\"ColumnDataSource\"},\"glyph\":{\"id\":\"84a9055f-af70-4ce6-a981-e907d1c4e365\",\"type\":\"Line\"},\"hover_glyph\":null,\"muted_glyph\":null,\"nonselection_glyph\":{\"id\":\"203972ff-fd6f-47be-bf14-0d0fba5880d9\",\"type\":\"Line\"},\"selection_glyph\":null,\"view\":{\"id\":\"7e76ebf5-a16b-4069-be66-5296d2df3894\",\"type\":\"CDSView\"}},\"id\":\"9eed043a-3241-4bc8-926e-2b107730b63d\",\"type\":\"GlyphRenderer\"},{\"attributes\":{\"callback\":null,\"factors\":[\"the\",\",\",\".\",\"of\",\"and\",\"to\",\"a\",\"in\",\"that\",\"is\",\"was\",\"he\",\"for\",\"``\",\"''\",\"it\",\"with\",\"as\",\"his\",\"on\",\"be\",\";\",\"at\",\"by\",\"i\",\"this\",\"had\",\"?\",\"not\",\"are\",\"but\",\"from\",\"or\",\"have\",\"an\",\"they\",\"which\",\"--\",\"one\",\"you\",\"were\",\"her\",\"all\",\"she\",\"there\",\"would\",\"their\",\"we\",\"him\",\"been\",\")\",\"has\",\"(\",\"when\",\"who\",\"will\",\"more\",\"if\",\"no\",\"out\",\"DG\",\"so\",\"said\",\"DGDGDGDG\",\"DGDG\",\"what\",\"up\",\"its\",\"about\",\":\",\"into\",\"than\",\"them\",\"can\",\"only\",\"other\",\"new\",\"some\",\"could\",\"time\",\"!\",\"these\",\"two\",\"may\",\"then\",\"do\",\"first\",\"any\",\"my\",\"now\",\"such\",\"like\",\"our\",\"over\",\"man\",\"me\",\"even\",\"most\",\"made\",\"also\"]},\"id\":\"ca82da9e-fdb0-41c0-bf21-cf4673a8b969\",\"type\":\"FactorRange\"},{\"attributes\":{\"line_alpha\":{\"value\":0.1},\"line_color\":{\"value\":\"#1f77b4\"},\"line_width\":{\"value\":2},\"x\":{\"field\":\"x\"},\"y\":{\"field\":\"y\"}},\"id\":\"203972ff-fd6f-47be-bf14-0d0fba5880d9\",\"type\":\"Line\"}],\"root_ids\":[\"2fbd255c-d5fb-4f4f-bb41-26cdfd7bad74\"]},\"title\":\"Bokeh Application\",\"version\":\"0.12.10\"}};\n",
       "    var render_items = [{\"docid\":\"15fd28e2-d7e4-4671-8086-3680d899a6ac\",\"elementid\":\"50b9136a-a25d-4a38-8606-f79f8b859071\",\"modelid\":\"2fbd255c-d5fb-4f4f-bb41-26cdfd7bad74\"}];\n",
       "\n",
       "    root.Bokeh.embed.embed_items(docs_json, render_items);\n",
       "  }\n",
       "\n",
       "  if (root.Bokeh !== undefined) {\n",
       "    embed_document(root);\n",
       "  } else {\n",
       "    var attempts = 0;\n",
       "    var timer = setInterval(function(root) {\n",
       "      if (root.Bokeh !== undefined) {\n",
       "        embed_document(root);\n",
       "        clearInterval(timer);\n",
       "      }\n",
       "      attempts++;\n",
       "      if (attempts > 100) {\n",
       "        console.log(\"Bokeh: ERROR: Unable to embed document because BokehJS library is missing\")\n",
       "        clearInterval(timer);\n",
       "      }\n",
       "    }, 10, root)\n",
       "  }\n",
       "})(window);"
      ],
      "application/vnd.bokehjs_exec.v0+json": ""
     },
     "metadata": {
      "application/vnd.bokehjs_exec.v0+json": {
       "id": "2fbd255c-d5fb-4f4f-bb41-26cdfd7bad74"
      }
     },
     "output_type": "display_data"
    }
   ],
   "source": [
    "# This next line splits the pairs of <word, count> in the vocabulary into two lists:\n",
    "# 1.  a list of words (types)\n",
    "# 2.  a list of counts (per type)\n",
    "# with the property that the ith word in the list has its corresponding count in the ith counts.\n",
    "words, counts = zip(*vocab.unigram_counts.most_common(vocab.size))\n",
    "counts = np.array(counts, dtype=float)  # Avoid integer math.\n",
    "rank = 1 + np.arange(len(counts))  # rank is an array of [1, 2, 3, 4, ..., num_types]\n",
    "N = np.sum(counts)  # N = total # of tokens seen.\n",
    "p = counts / N  # p is an array the length of `words`.  #_times_word_seen / total_#_words\n",
    "\n",
    "# Fit a power law curve to the histogram above.\n",
    "# Optimize least-squares in log space.\n",
    "# See http://nlp.stanford.edu/IR-book/html/htmledition/zipfs-law-modeling-the-distribution-of-terms-1.html\n",
    "fit_func = lambda c: (np.log(c[0]*p) - np.log(c[0] * rank**c[1]))\n",
    "(a,b), _ = optimize.leastsq(fit_func, np.array([p[0], -1.0]))\n",
    "print(u\"Power law exponent: \\u03B2 = {:.02f}\".format(b))\n",
    "p_pred = (a * rank**b) / sum(a * rank**b)  # predict probabilities\n",
    "c_pred = N * p_pred  # predict counts\n",
    "\n",
    "\n",
    "# Plot counts, with fit curve.\n",
    "nplot = 100\n",
    "fig = bp.figure(x_range=words[:nplot], plot_width=800, plot_height=400)\n",
    "bars = fig.vbar(x=words[:nplot], width=0.8, top=counts[:nplot], hover_fill_color=\"firebrick\")\n",
    "fig.add_tools(HoverTool(tooltips=[(\"word\", \"@x\"), (\"count\", \"@top\")], renderers=[bars], mode=\"vline\"))\n",
    "fig.line(x=words[:nplot], y=np.round(c_pred)[:nplot], color=\"Orange\", line_width=2)\n",
    "fig.y_range.start = 0\n",
    "fig.y_range.end = 1.2*max(counts)\n",
    "fig.yaxis.axis_label = \"Count(w)\"\n",
    "fig.xgrid.grid_line_alpha = 0.5\n",
    "bp.show(fig)"
   ]
  },
  {
   "cell_type": "markdown",
   "metadata": {},
   "source": [
    "Why should we care about the form of this distribution? Power-law distributions like [Zipf's law](https://en.wikipedia.org/wiki/Zipf%E2%80%93Mandelbrot_law) have a **long tail**, which means that a large fraction of the tokens (words on the page) belong to types (words in the dictionary) that appear quite rarely. \n",
    "\n",
    "We can look at this directly by plotting the cumulative distribution function, *as a function of the count* $c(w)$:\n",
    "\n",
    "$$ f(k) = \\sum_{i \\in \\text{words}}^{|\\text{corpus}|} \\mathbf{1}\\{c(w_i) <= k\\} = \\sum_{j \\in \\text{types}}^{|V|} c(w_j)\\ \\mathbf{1}\\{c(w_j) <= k\\} $$\n",
    "\n",
    "This asks: for a given word on the page, how likely is $c(w) <= k$?\n",
    "\n",
    "The Brown corpus has about 1 million words (tokens), about 7% of which are the token \"the\" and 6% of which are commas. So, we'll plot our data on a log scale so that we can see what's going on for $k= 1, ..., 100$, as well as the higher counts ($c(\\text{the}) = 6.9 \\cdot 10^4$)."
   ]
  },
  {
   "cell_type": "code",
   "execution_count": 8,
   "metadata": {},
   "outputs": [
    {
     "data": {
      "text/html": [
       "\n",
       "<div class=\"bk-root\">\n",
       "    <div class=\"bk-plotdiv\" id=\"0ebe6edc-4096-4406-ad26-c6d18560df7c\"></div>\n",
       "</div>"
      ]
     },
     "metadata": {},
     "output_type": "display_data"
    },
    {
     "data": {
      "application/javascript": [
       "(function(root) {\n",
       "  function embed_document(root) {\n",
       "    var docs_json = {\"815441ac-76e4-422b-a81e-8d3f7ad5aaaf\":{\"roots\":{\"references\":[{\"attributes\":{\"num_minor_ticks\":10},\"id\":\"5d17698c-fd5f-4794-9664-589ce0f8fef4\",\"type\":\"LogTicker\"},{\"attributes\":{\"bottom_units\":\"screen\",\"fill_alpha\":{\"value\":0.5},\"fill_color\":{\"value\":\"lightgrey\"},\"left_units\":\"screen\",\"level\":\"overlay\",\"line_alpha\":{\"value\":1.0},\"line_color\":{\"value\":\"black\"},\"line_dash\":[4,4],\"line_width\":{\"value\":2},\"plot\":null,\"render_mode\":\"css\",\"right_units\":\"screen\",\"top_units\":\"screen\"},\"id\":\"5b1bb319-7ec3-4488-ae7f-51b12619e500\",\"type\":\"BoxAnnotation\"},{\"attributes\":{\"callback\":null},\"id\":\"1e7feb9e-2d63-495a-88e5-73a6c3dcdb21\",\"type\":\"DataRange1d\"},{\"attributes\":{\"callback\":null,\"column_names\":[\"x\",\"y\"],\"data\":{\"x\":{\"__ndarray__\":\"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\",\"dtype\":\"float64\",\"shape\":[559]},\"y\":{\"__ndarray__\":\"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\",\"dtype\":\"float64\",\"shape\":[559]}}},\"id\":\"d07e1f7a-0154-4570-bbac-3d12a66a3309\",\"type\":\"ColumnDataSource\"},{\"attributes\":{\"fill_alpha\":{\"value\":0.1},\"fill_color\":{\"value\":\"#1f77b4\"},\"line_alpha\":{\"value\":0.1},\"line_color\":{\"value\":\"#1f77b4\"},\"x\":{\"field\":\"x\"},\"y\":{\"field\":\"y\"}},\"id\":\"38dfa236-8284-4e22-acbe-180f4d4da6b1\",\"type\":\"Circle\"},{\"attributes\":{},\"id\":\"caf0dc1c-8b63-49c4-9f88-5a425a1a015b\",\"type\":\"SaveTool\"},{\"attributes\":{\"active_drag\":\"auto\",\"active_inspect\":\"auto\",\"active_scroll\":\"auto\",\"active_tap\":\"auto\",\"tools\":[{\"id\":\"01a72f1f-26dc-40f9-990c-cf6a56a46fc7\",\"type\":\"PanTool\"},{\"id\":\"bb604e5c-3af3-4326-b350-e7c1676b4fce\",\"type\":\"WheelZoomTool\"},{\"id\":\"a3cf2874-9cb8-436a-9082-70e4d939b307\",\"type\":\"BoxZoomTool\"},{\"id\":\"caf0dc1c-8b63-49c4-9f88-5a425a1a015b\",\"type\":\"SaveTool\"},{\"id\":\"7ad3e68f-b011-4308-bd74-0ea902f41785\",\"type\":\"ResetTool\"},{\"id\":\"ce3f82cd-b841-45ef-b8be-be7e435fa9e6\",\"type\":\"HelpTool\"},{\"id\":\"e7629ff6-3669-496f-9ae1-65fedf5d6c3b\",\"type\":\"HoverTool\"}]},\"id\":\"9657e511-7c96-4d83-9a1f-0eb3c56a7a6c\",\"type\":\"Toolbar\"},{\"attributes\":{},\"id\":\"bb604e5c-3af3-4326-b350-e7c1676b4fce\",\"type\":\"WheelZoomTool\"},{\"attributes\":{\"overlay\":{\"id\":\"5b1bb319-7ec3-4488-ae7f-51b12619e500\",\"type\":\"BoxAnnotation\"}},\"id\":\"a3cf2874-9cb8-436a-9082-70e4d939b307\",\"type\":\"BoxZoomTool\"},{\"attributes\":{\"data_source\":{\"id\":\"d07e1f7a-0154-4570-bbac-3d12a66a3309\",\"type\":\"ColumnDataSource\"},\"glyph\":{\"id\":\"5106bc3c-84ac-4407-99f5-e542a2d73ee9\",\"type\":\"Line\"},\"hover_glyph\":null,\"muted_glyph\":null,\"nonselection_glyph\":{\"id\":\"9c2b86a9-3de3-436b-a76a-62c47ee3483f\",\"type\":\"Line\"},\"selection_glyph\":null,\"view\":{\"id\":\"2cfaab53-5ddc-42b6-ae5a-0f6e594fbf35\",\"type\":\"CDSView\"}},\"id\":\"43562182-b9ae-4f43-ae39-577d7c783349\",\"type\":\"GlyphRenderer\"},{\"attributes\":{},\"id\":\"21f2d15b-2cc0-406e-a3a8-913e428f467a\",\"type\":\"LogScale\"},{\"attributes\":{\"callback\":null,\"start\":0},\"id\":\"e1227e61-6185-4772-960c-c433ca205edf\",\"type\":\"DataRange1d\"},{\"attributes\":{\"axis_label\":\"Count (log-scale)\",\"formatter\":{\"id\":\"ed45b344-7d81-437c-a7d4-10fe5770f1cf\",\"type\":\"LogTickFormatter\"},\"plot\":{\"id\":\"9c37608c-2bb4-48b2-a609-5fb0034fb2f5\",\"subtype\":\"Figure\",\"type\":\"Plot\"},\"ticker\":{\"id\":\"5d17698c-fd5f-4794-9664-589ce0f8fef4\",\"type\":\"LogTicker\"}},\"id\":\"37b331f1-16d6-4ab1-81cc-b10199a102d8\",\"type\":\"LogAxis\"},{\"attributes\":{},\"id\":\"a07dc765-06a0-440d-bb16-70de5839710a\",\"type\":\"LinearScale\"},{\"attributes\":{\"plot\":null,\"text\":\"Cumulative Word Counts\"},\"id\":\"f47624d7-acce-4060-8b4b-a9751cbdcf08\",\"type\":\"Title\"},{\"attributes\":{\"plot\":{\"id\":\"9c37608c-2bb4-48b2-a609-5fb0034fb2f5\",\"subtype\":\"Figure\",\"type\":\"Plot\"},\"ticker\":{\"id\":\"5d17698c-fd5f-4794-9664-589ce0f8fef4\",\"type\":\"LogTicker\"}},\"id\":\"33582ccc-7d74-4119-ab8b-8d7c3a47011a\",\"type\":\"Grid\"},{\"attributes\":{\"line_color\":{\"value\":\"#1f77b4\"},\"line_width\":{\"value\":2},\"x\":{\"field\":\"x\"},\"y\":{\"field\":\"y\"}},\"id\":\"5106bc3c-84ac-4407-99f5-e542a2d73ee9\",\"type\":\"Line\"},{\"attributes\":{\"ticker\":null},\"id\":\"ed45b344-7d81-437c-a7d4-10fe5770f1cf\",\"type\":\"LogTickFormatter\"},{\"attributes\":{\"axis_label\":\"p(Count(w) < c)\",\"formatter\":{\"id\":\"837eb3a6-eb2d-4c5d-9871-f8fc1f82b3f2\",\"type\":\"BasicTickFormatter\"},\"plot\":{\"id\":\"9c37608c-2bb4-48b2-a609-5fb0034fb2f5\",\"subtype\":\"Figure\",\"type\":\"Plot\"},\"ticker\":{\"id\":\"56ab05bf-7047-489c-b0e1-43684bae3b7c\",\"type\":\"BasicTicker\"}},\"id\":\"9e7b5b1b-eb07-4b38-b82d-7377e0b2ca7e\",\"type\":\"LinearAxis\"},{\"attributes\":{\"below\":[{\"id\":\"37b331f1-16d6-4ab1-81cc-b10199a102d8\",\"type\":\"LogAxis\"}],\"left\":[{\"id\":\"9e7b5b1b-eb07-4b38-b82d-7377e0b2ca7e\",\"type\":\"LinearAxis\"}],\"plot_height\":400,\"plot_width\":800,\"renderers\":[{\"id\":\"37b331f1-16d6-4ab1-81cc-b10199a102d8\",\"type\":\"LogAxis\"},{\"id\":\"33582ccc-7d74-4119-ab8b-8d7c3a47011a\",\"type\":\"Grid\"},{\"id\":\"9e7b5b1b-eb07-4b38-b82d-7377e0b2ca7e\",\"type\":\"LinearAxis\"},{\"id\":\"e7caa558-b849-4083-b971-806e52e486a8\",\"type\":\"Grid\"},{\"id\":\"5b1bb319-7ec3-4488-ae7f-51b12619e500\",\"type\":\"BoxAnnotation\"},{\"id\":\"43562182-b9ae-4f43-ae39-577d7c783349\",\"type\":\"GlyphRenderer\"},{\"id\":\"b5c52bd6-0d1f-47b5-bb05-9bd7cb48b5f4\",\"type\":\"GlyphRenderer\"}],\"title\":{\"id\":\"f47624d7-acce-4060-8b4b-a9751cbdcf08\",\"type\":\"Title\"},\"toolbar\":{\"id\":\"9657e511-7c96-4d83-9a1f-0eb3c56a7a6c\",\"type\":\"Toolbar\"},\"x_range\":{\"id\":\"1e7feb9e-2d63-495a-88e5-73a6c3dcdb21\",\"type\":\"DataRange1d\"},\"x_scale\":{\"id\":\"21f2d15b-2cc0-406e-a3a8-913e428f467a\",\"type\":\"LogScale\"},\"y_range\":{\"id\":\"e1227e61-6185-4772-960c-c433ca205edf\",\"type\":\"DataRange1d\"},\"y_scale\":{\"id\":\"a07dc765-06a0-440d-bb16-70de5839710a\",\"type\":\"LinearScale\"}},\"id\":\"9c37608c-2bb4-48b2-a609-5fb0034fb2f5\",\"subtype\":\"Figure\",\"type\":\"Plot\"},{\"attributes\":{},\"id\":\"56ab05bf-7047-489c-b0e1-43684bae3b7c\",\"type\":\"BasicTicker\"},{\"attributes\":{\"dimension\":1,\"plot\":{\"id\":\"9c37608c-2bb4-48b2-a609-5fb0034fb2f5\",\"subtype\":\"Figure\",\"type\":\"Plot\"},\"ticker\":{\"id\":\"56ab05bf-7047-489c-b0e1-43684bae3b7c\",\"type\":\"BasicTicker\"}},\"id\":\"e7caa558-b849-4083-b971-806e52e486a8\",\"type\":\"Grid\"},{\"attributes\":{\"source\":{\"id\":\"a8267060-d4b6-428c-a281-7531175eeb19\",\"type\":\"ColumnDataSource\"}},\"id\":\"d2ef7f42-485f-4e3c-9ea8-0c89c57de594\",\"type\":\"CDSView\"},{\"attributes\":{\"callback\":null,\"column_names\":[\"x\",\"y\"],\"data\":{\"x\":{\"__ndarray__\":\"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\",\"dtype\":\"float64\",\"shape\":[559]},\"y\":{\"__ndarray__\":\"RY8brt94kj+BbupoysSeP3Wudknna6Q/hd9abFSpqD+nNZxTuo+sP8pgdahe4q8/IIdth6acsT+QJWYUuguzP+yL92wdZLQ/A2KxSnqetT8mZycXGMm2PyPuz4KT57c/LmbFEXQGuT/+J4YLggK6P2IKqomi/7o/fpct/vwcvD/VudyfsBC9PwP9dcYv8L0/3+5aIl3Cvj+uH2MuP6W/P8L8mmwuRsA/f4v8cuSowD+TCbx9fg3BP/nB39y7XME/zmTBHJC6wT/BY6UarA/CP/LcHsl7Y8I/2HzWBD23wj8ActSCQQjDP/m4OgWHWcM/hS2bkMKkwz9/pdlZAO3DP7EeUwjQQMQ/J1rk63yPxD8t6L5GkNnEP5Sg4qXNKMU/oteHnxx3xT/h4AVXP8PFP8YHvY5hBsY/Pza37Spcxj/5iYe7HZ7GPz/bh/dp5sY/h1DJ9cosxz/LD6nQDHbHP65br3afusc//IZSmB/+xz9XcmqWDEvIP2wKsnHwg8g/toBb4y+wyD/RL038RO7IP2KL5/GXLck/3IrZ8CVYyT+iPdaAc5vJP4/FL5oqyck/+dJsAnUNyj+c4kzDL0PKP7gjXz1PgMo/hjaWO1PIyj94pMFLQwTLP9SQQb0ON8s/zvDHnL92yz9mlOQWPLLLP7rvUdNY6cs/hH5naBQRzD/E0d3DmkLMP/MnfiM0fsw/ynYIlVyvzD9H+hv9MvrMPzk41zkJJc0/PexodmtWzT+l1syPf4LNP5k3YRuMxc0/I+uY5YHmzT/5pwL2nxjOP0VC7Sn0Qs4/3FRRtkRlzj/NMcTYCIjOPxfZRZFAq84/hjwEdnbKzj9EncWPz+fOP/vldPgYGs8/dLX2I40zzz9SZLsDbGnPP2IWMegWlM8/I7PrrRG4zz8eLJLqLebPPyRC1LSABdA/2GeqzpMf0D985n4FZC3QP5Ph3uEWOtA/7ec5wOpP0D83kCPsAFnQP+5sFjnQZNA/KjxrKw520D8nPL7HzITQP8wP/6NoltA/puU1dTOo0D9mCfA2j7vQP5mdWSmHydA/B9GnOqPX0D8IARgOvejQP/QokYBA9NA/BwyMDyUH0T/Dqrz0WRTRP0CSo22cJ9E/X39eGRA40T9EazF8sEvRP3BuiLn5XdE/udm9KdFr0T8UHc3D43zRP8gGV5WWgdE/dFPyPFSG0T85/DXb1p/RP8+VmWOIsdE/80SSp2HD0T8P9lOnM83RPxxtOFMb19E/RDSW5MLi0T8hOurs6PbRP6DwpYJ0BNI/kmx97mcQ0j8+iEBPLR7SP7h8vkxTKtI/Pw0dyBIz0j9mWhLiPEjSP6gQoT6STdI/pSisxN1k0j9wSkougnHSP9ZmQZ4ridI/HevpBy2U0j8STk569qLSP+1gOQcAsNI/CrD33CK90j8VTCv3esjSPxCugb3o09I/CWb/OL/X0j81pgoyR+XSPxwAapce69I/2nlLDuP20j+JuU8xvQLTP/lBCuikFNM/d681Tasi0z86unwV3TjTP2DXAVztPNM/WgiA22JR0z899Q1OoFnTP2u7XTPsYdM/oCp4t3Nu0z/GX7XnEHvTP84IgIZMf9M///7sovOJ0z/ORMzOrJTTP0NrML8mm9M/TlD0CQSm0z8ZKQJDI7PTP+ySIjHxu9M/CdYEks3E0z9Y67+wfcvTPzLm8lP6z9M/MbUaDQLZ0z98XQQ5GOLTP0KAsE4Y8tM/k4jU6OT/0z/KiQ/OdgvUP0GXAMXGFNQ/owra+XUZ1D+tmjGfhyDUPwNB/3LmItQ//pZ5xA0q1D/2vNbe2S7UP2sHzy0nQtQ/1IS7GyRT1D+CPntSOmTUP7qg/lHed9Q/VfDD/a6G1D8b+7cpIo7UP5mZu9Ugk9Q/LYlGEzud1D/VH4CX2aTUP//BjroQr9Q/dT1fUFa51D/VZ6hUgL7UP9t+UpKxw9Q/XQTjRIbL1D//5LqlBdbUP+2eVHmT4NQ/iWiCnOHl1D/LHhH5NuvUPz/wCETl7dQ/WQ+q4qz41D+Mi1vrF/7UP/i/ZAzRANU/NcCRRQcJ1T/DyOIYCh/VP1YmTfUZKtU/fE+usHAy1T+v4xejaEDVP2nYbz0GRtU/h3yauPRW1T+MSrTFoFzVPzcFLwxUYtU/39gcTDFl1T/LAJa+tHDVP7RBgipiedU/luV/bBqC1T99P9/R8YfVP8NiPyHhitU/9ZVg+caQ1T/hpSGCvZPVP16yBM2xmdU/NaGul6ao1T/FbPgSrLTVPzM//gm2utU/X0JVR//M1T9jx94jJtPVPzgA1C491tU/h14ffnLc1T/3ziFLzeXVP5IGLw0R7NU/0iqdCFzy1T+4O2w9rvjVP346hPTa+9U/ryQVnDsC1j+G+wZ9owjWP0RdMArbC9Y/Zg3kXVES1j+R+IKxDRzWP7VGM9vUJdY/EfjOdx4p1j/AHxuxayzWP8G9F4e8L9Y/FtLE+RAz1j9l538YwTnWP1/ojcQcPdY/+dYKVttD1j84suggoUrWPx16JyVuUdY/YlT3Q9hU1j/7pHf/RVjWP9Ay2a8oX9Y/TK2bmRJm1j8eL3RxbXfWP8isOvzhgdY/pDmOAGmF1j/TPJKh84jWP3scXFYXkNY/btXnfUmX1j+tZzUYip7WP3Vlkr8ZrdY//9ChzGi01j9qc4qMF7jWP3oC1IXNu9Y/QA3IsUDD1j+rBB0Xu8rWP2LVM+9D0tY/vpKrANTZ1j/APIRLa+HWPxMIoY065dY/YDbPpRTp1j/byEl5i/jWP7AZ920vBNc/OTx2SvkL1z/QQ2bV4Q/XP0osCF7BF9c/2pYJv7Qb1z+BOR+4mSfXP7eQgVKUK9c/xyunwJAz1z99sy1olDvXP6ptodiZP9c/LP8NALVL1z94ORiN1VPXP/HMTXDpV9c/vdYz8ABc1z/bVsoMHGDXP0xNEcY6ZNc/YzC5uGBo1z8gAMLkjWzXP4K8K0rCcNc/6yFgTjJ51z/zyirtbX3XP072gZ3zhdc/oHgOrz2K1z/sXayWko7XP4q5+hrrktc/e4v5O0eX1z++06j5ppvXP+tQaK5tpNc/kCSpigm21z9EJutFScPXPya+DBO7x9c/WszefDDM1z/iUGGDqdDXP7xLlCYm1dc/6bx3ZqbZ1z9opAtDKt7XPzsCULyx4tc/s0z1bkDn1z9IzqANZfDXP4Q8reWQ+dc/mtbEpzH+1z9VXT2j2QLYP2RaZjuFB9g/gBcEsJ0V2D+Hdz4eVBrYPySK/HEnH9g/FBNrYv4j2D9XEorv2CjYP+Xqau/BLdg/ayZdxbUy2D9E2P83rTfYP+gBaMmxQdg/XwN9S7tG2D+Y32jC3FDYP+cM3MoZYNg/queyvzFl2D/UicHiaG/YP+I9WkqPdNg/QmijTrl52D/1CJ3v5n7YP/sfRy0YhNg/rTr84YGO2D8EQhLQ8pjYPwE2ifdqo9g/SQPCkfGt2D8/4I57OLPYP4kzDAKDuNg/Jf05JdG92D/zvNRkxs3YP9tfxPoi09g/FXlkLYPY2D+iCLX85t3YPzp9yRYo7tg/wG8rvJbz2D+Y2D3+CPnYP2mkYRaG/tg/jeY1ywYE2T/FMAHhHQ/ZP6JnLTA8Gtk/JYu6uGEl2T+MCWK2+yrZP0b+uVCZMNk/YNTKvts72T+/tYOSgEHZP9e8v+N5Utk/gXc6Ki1Y2T/KgSeA8l3ZP6dvw56Ladk/O1NyZ19v2T8IBzEyDnvZP5VN8dDsgNk/xoASqdKG2T9LKuQdvIzZP24jKKK3ktk//+5xHb2e2T8SrthNzqTZP3jj7xrjqtk/Mo+3hPuw2T89sS+LF7fZP+yno31sw9k/lhmOk5rJ2T/ld9niz8/ZP9Mll0EX1tk/ZsC12WXc2T/xveVHv+LZP22BOGIu6dk/jzHstaTv2T+qRLHfJfbZP7y6h9+x/Nk/IqcOfEED2j/Lz2hh6gnaPwqrRiywENo/1TrENEoe2j+yZRQPIiXaP9tpJlwILNo/qVqZ4vUy2j8dOG2i6jnaPzYCopvmQNo/9bg3zulH2j8H5n2d8E7aP2yJdAn7Vdo/I6MbEgld2j8mloSNJWTaPyHs/t5Ma9o/WOFdT5hy2j8OsnQnIXraP2tv7Dixgdo/uPKG9laJ2j+jxZPDDpHaPyzoEqDYmNo/8al2m8ag2j/5p63fzajaP1UclcDYsNo/9MxP6vy42j+DQy3ANsHaP7mma893ydo/BfktRiXa2j9nwXMgoOLaP3crwUek89o/DQ61ANsE2z+rdd/5eQ3bP+/JaiwgFts/HEcq4eYe2z9BJ/truCfbP7l9fJONMNs/hEquV2Y52z+ijZC4QkLbP2W901ImS9s/EhZLbypU2z/jNtssc13bP626fMDGZts/wxfgxihw2z8csRYWpHnbP22tXjsqg9s/ESBX/bOM2z8AbBEyTJbbP+ga3Tzvn9s/IkBZ5JWp2z8CUjbFQ7PbPzXaw0L1vNs/pAE238rG2z9PyIyaxNDbP5jeVWXQ2ts/2VcwBufk2z8PKJOkgPnbP09Y3RQSBNw/4/7XIacO3D8bkjNoQxncP5DEc80DJNw/WG1kz8cu3D+5EK7XkETcP6aBt3qZT9w/MUIzLbRa3D//PoIo6GXcP3MoMl0jcdw/I7HGsIJ83D8msAuh5YfcP+vG20Gfk9w/aLqeLyir3D9i02TFELfcP1VPPDEEw9w/QC4lcwLP3D9JODgsUNvcP++RvfSv59w/h7FlaSX03D+8IIDtrADdPzXMbbpNDd0/VGS8wPUZ3T8BEqCCxSbdP4iu2nLLM90/pdicdjxO3T/o73Pto1vdP1hsUi9Fad0/ZjijgPh23T+Kki8fBoXdPy3IcyVRk90/yWDJAaeh3T/rccVvL7DdP5X7Z2/qvt0/FSskCRXd3T/yJJyc9OzdP87Vg/9O/d0/OZwAHtEN3j8yeBL4eh7eP5VYELyCL94/WKALQPNA3j9ITQ6PnVLePyh3o1nYZN4/l7bN3zp33j+VC40hxYneP945DtZdnN4/kGx7dFSv3j/BeqB6iMLeP5h1JrrD1d4/7ktkYTzp3j9iTcx/BP3ePxLuGL3wEN8/1fhfhSIn3z8IpYFhpz3fP+E9BHczVN8/sjmYYspq3z8CEeS1noHfP9PD53CwmN8/Tm4aLrSw3z+rWwITXsnfP8pgdahe4t8/F8vvCJn73z8EkWVRbQrgP6d3q+wPF+A/70pSwbkj4D9zvd20hzDgP+sfO1GjPeA/kOefuPhK4D8e2DiibljgP85mOzDxZeA/mPa4OItz4D+4JpbaYIHgP7riuNRhj+A/InkYvIid4D9AF9X8U6zgPypqCxhru+A/nl+XwezK4D/RQv8ejdrgP98Uvqpj6uA/D4Xm2kb64D8FN0m4uArhP8zxg2nmG+E/5yJvtxct4T+yB1llfT7hP3VPVOntT+E//4/56Wdi4T/ecP6DHXXhP30/39Hxh+E/Y3RCZReb4T+N5XhBVq7hPw/YLYODwuE/X2B7a6/X4T9Y/9iJGu3hP2vur41FBOI/0lM3LnQb4j8xHNCkrTLiPzQ/qfPjSuI/EzL4PANk4j99x5wUjX3iP08YnaXvl+I/zBc8CL+z4j/6Gdg1a9HiP60C+pM/8OI/KHbmzycP4z++6k2GJy7jP0FKJ1etTuM/MdibDslv4z9IFbZt/5PjP1AY83hLuOM/a3+81Lnc4z98t3alKALkPzow8KgOKOQ/V35GC1NP5D+cOCAfUHzkP70Rbpjeq+Q/HNmemznd5D8KBWPFZBDlP8uCj/PQQ+U/bvO3zp2B5T/BF98Jn7/lP9hTkfX2/eU/YD36aehA5j9xybhsRITmP7EJfaWCyeY/fDuV19MQ5z+2gtX2kFvnP0KAsE4Y8uc/RuDoQruV6D90AFZ+RU7pP3fxmfzSGeo/48UYSrQa6z/0p1TV1HbsP4erTQJeEu4/AAAAAAAA8D8=\",\"dtype\":\"float64\",\"shape\":[559]}}},\"id\":\"a8267060-d4b6-428c-a281-7531175eeb19\",\"type\":\"ColumnDataSource\"},{\"attributes\":{},\"id\":\"ce3f82cd-b841-45ef-b8be-be7e435fa9e6\",\"type\":\"HelpTool\"},{\"attributes\":{\"fill_color\":{\"value\":\"white\"},\"line_color\":{\"value\":\"#1f77b4\"},\"x\":{\"field\":\"x\"},\"y\":{\"field\":\"y\"}},\"id\":\"d9e1b737-cc64-46ca-8c61-cf999edcb073\",\"type\":\"Circle\"},{\"attributes\":{\"source\":{\"id\":\"d07e1f7a-0154-4570-bbac-3d12a66a3309\",\"type\":\"ColumnDataSource\"}},\"id\":\"2cfaab53-5ddc-42b6-ae5a-0f6e594fbf35\",\"type\":\"CDSView\"},{\"attributes\":{\"line_alpha\":{\"value\":0.1},\"line_color\":{\"value\":\"#1f77b4\"},\"line_width\":{\"value\":2},\"x\":{\"field\":\"x\"},\"y\":{\"field\":\"y\"}},\"id\":\"9c2b86a9-3de3-436b-a76a-62c47ee3483f\",\"type\":\"Line\"},{\"attributes\":{},\"id\":\"01a72f1f-26dc-40f9-990c-cf6a56a46fc7\",\"type\":\"PanTool\"},{\"attributes\":{\"callback\":null,\"mode\":\"vline\",\"renderers\":[{\"id\":\"43562182-b9ae-4f43-ae39-577d7c783349\",\"type\":\"GlyphRenderer\"}],\"tooltips\":[[\"count\",\"@x\"],[\"CDF\",\"@y\"]]},\"id\":\"e7629ff6-3669-496f-9ae1-65fedf5d6c3b\",\"type\":\"HoverTool\"},{\"attributes\":{\"data_source\":{\"id\":\"a8267060-d4b6-428c-a281-7531175eeb19\",\"type\":\"ColumnDataSource\"},\"glyph\":{\"id\":\"d9e1b737-cc64-46ca-8c61-cf999edcb073\",\"type\":\"Circle\"},\"hover_glyph\":null,\"muted_glyph\":null,\"nonselection_glyph\":{\"id\":\"38dfa236-8284-4e22-acbe-180f4d4da6b1\",\"type\":\"Circle\"},\"selection_glyph\":null,\"view\":{\"id\":\"d2ef7f42-485f-4e3c-9ea8-0c89c57de594\",\"type\":\"CDSView\"}},\"id\":\"b5c52bd6-0d1f-47b5-bb05-9bd7cb48b5f4\",\"type\":\"GlyphRenderer\"},{\"attributes\":{},\"id\":\"7ad3e68f-b011-4308-bd74-0ea902f41785\",\"type\":\"ResetTool\"},{\"attributes\":{},\"id\":\"837eb3a6-eb2d-4c5d-9871-f8fc1f82b3f2\",\"type\":\"BasicTickFormatter\"}],\"root_ids\":[\"9c37608c-2bb4-48b2-a609-5fb0034fb2f5\"]},\"title\":\"Bokeh Application\",\"version\":\"0.12.10\"}};\n",
       "    var render_items = [{\"docid\":\"815441ac-76e4-422b-a81e-8d3f7ad5aaaf\",\"elementid\":\"0ebe6edc-4096-4406-ad26-c6d18560df7c\",\"modelid\":\"9c37608c-2bb4-48b2-a609-5fb0034fb2f5\"}];\n",
       "\n",
       "    root.Bokeh.embed.embed_items(docs_json, render_items);\n",
       "  }\n",
       "\n",
       "  if (root.Bokeh !== undefined) {\n",
       "    embed_document(root);\n",
       "  } else {\n",
       "    var attempts = 0;\n",
       "    var timer = setInterval(function(root) {\n",
       "      if (root.Bokeh !== undefined) {\n",
       "        embed_document(root);\n",
       "        clearInterval(timer);\n",
       "      }\n",
       "      attempts++;\n",
       "      if (attempts > 100) {\n",
       "        console.log(\"Bokeh: ERROR: Unable to embed document because BokehJS library is missing\")\n",
       "        clearInterval(timer);\n",
       "      }\n",
       "    }, 10, root)\n",
       "  }\n",
       "})(window);"
      ],
      "application/vnd.bokehjs_exec.v0+json": ""
     },
     "metadata": {
      "application/vnd.bokehjs_exec.v0+json": {
       "id": "9c37608c-2bb4-48b2-a609-5fb0034fb2f5"
      }
     },
     "output_type": "display_data"
    }
   ],
   "source": [
    "# We'll use the histogram function with variable bins in order to get a stair-step plot.\n",
    "b_shift = 0.5  # So counts don't fall on bin boundaries.\n",
    "# Weights give us distribution by token; remove this to get distribution by type.\n",
    "h, bins = np.histogram(counts, weights=counts, bins=b_shift+np.concatenate([[0], np.unique(counts)]))\n",
    "\n",
    "\n",
    "fig = bp.figure(plot_width=800, plot_height=400, x_axis_type=\"log\", title=\"Cumulative Word Counts\")\n",
    "l = fig.line(x=bins[1:]-b_shift, y=np.cumsum(1.0*h)/np.sum(h), line_width=2)\n",
    "fig.circle(x=bins[1:]-b_shift, y=np.cumsum(1.0*h)/np.sum(h), fill_color=\"white\", size=4)\n",
    "fig.add_tools(HoverTool(tooltips=[(\"count\", \"@x\"), (\"CDF\", \"@y\")], renderers=[l], mode=\"vline\"))\n",
    "fig.y_range.start = 0\n",
    "fig.yaxis.axis_label = \"p(Count(w) < c)\"\n",
    "fig.xaxis.axis_label = \"Count (log-scale)\"\n",
    "bp.show(fig)"
   ]
  },
  {
   "cell_type": "code",
   "execution_count": 9,
   "metadata": {},
   "outputs": [
    {
     "data": {
      "text/html": [
       "\n",
       "<div class=\"bk-root\">\n",
       "    <div class=\"bk-plotdiv\" id=\"7ecb382a-82e9-4997-901e-4bbedc035eab\"></div>\n",
       "</div>"
      ]
     },
     "metadata": {},
     "output_type": "display_data"
    },
    {
     "data": {
      "application/javascript": [
       "(function(root) {\n",
       "  function embed_document(root) {\n",
       "    var docs_json = {\"d97c47a4-7704-4b4f-9f4d-d343f19c791d\":{\"roots\":{\"references\":[{\"attributes\":{\"data_source\":{\"id\":\"e0ab5431-4e56-44cb-8978-3cb3001b080e\",\"type\":\"ColumnDataSource\"},\"glyph\":{\"id\":\"771dad32-7f51-4cb2-95a2-ff5e5a3b2c0f\",\"type\":\"Circle\"},\"hover_glyph\":null,\"muted_glyph\":null,\"nonselection_glyph\":{\"id\":\"cddf462b-0312-4e03-9580-2649ede5621c\",\"type\":\"Circle\"},\"selection_glyph\":null,\"view\":{\"id\":\"cbd8c65e-f5d2-40a0-ac66-4e3f83a25998\",\"type\":\"CDSView\"}},\"id\":\"45a5c4ea-abbf-467f-8d27-6bb5baa463c5\",\"type\":\"GlyphRenderer\"},{\"attributes\":{\"line_color\":{\"value\":\"#1f77b4\"},\"line_width\":{\"value\":2},\"x\":{\"field\":\"x\"},\"y\":{\"field\":\"y\"}},\"id\":\"6e7aa60e-27f5-47a6-af71-27c439032919\",\"type\":\"Line\"},{\"attributes\":{\"overlay\":{\"id\":\"812d52b5-b90b-4151-a5f3-f7ff67132a36\",\"type\":\"BoxAnnotation\"}},\"id\":\"8a3bba52-9d2b-4fed-b2d6-541b2e08bec2\",\"type\":\"BoxZoomTool\"},{\"attributes\":{},\"id\":\"274b94d6-e69c-4629-9857-c1c5212a9186\",\"type\":\"LinearScale\"},{\"attributes\":{\"below\":[{\"id\":\"e8e28043-4906-4993-8e07-30e6fba4f8d4\",\"type\":\"LogAxis\"}],\"left\":[{\"id\":\"e5c2d76c-8c8d-48c8-886f-87fe83233689\",\"type\":\"LinearAxis\"}],\"plot_height\":400,\"plot_width\":800,\"renderers\":[{\"id\":\"e8e28043-4906-4993-8e07-30e6fba4f8d4\",\"type\":\"LogAxis\"},{\"id\":\"668151c5-4a45-445a-b992-f9bbe9e7a087\",\"type\":\"Grid\"},{\"id\":\"e5c2d76c-8c8d-48c8-886f-87fe83233689\",\"type\":\"LinearAxis\"},{\"id\":\"dc1ecaae-1d82-4425-b31f-05a5a7ccc605\",\"type\":\"Grid\"},{\"id\":\"812d52b5-b90b-4151-a5f3-f7ff67132a36\",\"type\":\"BoxAnnotation\"},{\"id\":\"edc91c56-b115-4294-9d0a-3c06f5f356a0\",\"type\":\"GlyphRenderer\"},{\"id\":\"45a5c4ea-abbf-467f-8d27-6bb5baa463c5\",\"type\":\"GlyphRenderer\"}],\"title\":{\"id\":\"287d42ca-d5a5-4249-97fd-6dcf2fc2d2f0\",\"type\":\"Title\"},\"toolbar\":{\"id\":\"bdaf7612-8b65-4095-ae1d-2ef12bcf2fc4\",\"type\":\"Toolbar\"},\"x_range\":{\"id\":\"21c04813-c391-4bd3-87ef-e8a1282f9a93\",\"type\":\"DataRange1d\"},\"x_scale\":{\"id\":\"d6f3bd02-3b70-4608-83e0-3bf8d118ebb6\",\"type\":\"LogScale\"},\"y_range\":{\"id\":\"43712d81-da28-41ea-89ec-5beb0a744a9b\",\"type\":\"DataRange1d\"},\"y_scale\":{\"id\":\"274b94d6-e69c-4629-9857-c1c5212a9186\",\"type\":\"LinearScale\"}},\"id\":\"577eba6b-cabe-47fe-9a42-b6a6e8c32709\",\"subtype\":\"Figure\",\"type\":\"Plot\"},{\"attributes\":{\"callback\":null,\"mode\":\"vline\",\"renderers\":[{\"id\":\"edc91c56-b115-4294-9d0a-3c06f5f356a0\",\"type\":\"GlyphRenderer\"}],\"tooltips\":[[\"count\",\"@x\"],[\"CDF\",\"@y\"]]},\"id\":\"1a328171-6e4b-45a6-bf85-c6ecf4d0e2e8\",\"type\":\"HoverTool\"},{\"attributes\":{},\"id\":\"f2fe64d4-812b-41b9-a930-41a13641731c\",\"type\":\"WheelZoomTool\"},{\"attributes\":{\"axis_label\":\"Count (log-scale)\",\"formatter\":{\"id\":\"0b6124a0-21b1-4091-82d6-502107f75db0\",\"type\":\"LogTickFormatter\"},\"plot\":{\"id\":\"577eba6b-cabe-47fe-9a42-b6a6e8c32709\",\"subtype\":\"Figure\",\"type\":\"Plot\"},\"ticker\":{\"id\":\"7eba7353-b0b0-4ecb-9991-45c3bab3cc3f\",\"type\":\"LogTicker\"}},\"id\":\"e8e28043-4906-4993-8e07-30e6fba4f8d4\",\"type\":\"LogAxis\"},{\"attributes\":{},\"id\":\"7e3a1f1d-5199-4aa1-86f6-99e6a9873a0d\",\"type\":\"SaveTool\"},{\"attributes\":{\"callback\":null,\"column_names\":[\"x\",\"y\"],\"data\":{\"x\":{\"__ndarray__\":\"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\",\"dtype\":\"float64\",\"shape\":[559]},\"y\":{\"__ndarray__\":\"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\",\"dtype\":\"float64\",\"shape\":[559]}}},\"id\":\"e0ab5431-4e56-44cb-8978-3cb3001b080e\",\"type\":\"ColumnDataSource\"},{\"attributes\":{\"source\":{\"id\":\"e0ab5431-4e56-44cb-8978-3cb3001b080e\",\"type\":\"ColumnDataSource\"}},\"id\":\"cbd8c65e-f5d2-40a0-ac66-4e3f83a25998\",\"type\":\"CDSView\"},{\"attributes\":{\"dimension\":1,\"plot\":{\"id\":\"577eba6b-cabe-47fe-9a42-b6a6e8c32709\",\"subtype\":\"Figure\",\"type\":\"Plot\"},\"ticker\":{\"id\":\"80e6af8e-2b19-497f-9ae4-3dcf641ae58f\",\"type\":\"BasicTicker\"}},\"id\":\"dc1ecaae-1d82-4425-b31f-05a5a7ccc605\",\"type\":\"Grid\"},{\"attributes\":{\"line_alpha\":{\"value\":0.1},\"line_color\":{\"value\":\"#1f77b4\"},\"line_width\":{\"value\":2},\"x\":{\"field\":\"x\"},\"y\":{\"field\":\"y\"}},\"id\":\"e8217720-f1ab-4d24-87b8-20ccdb4f81ba\",\"type\":\"Line\"},{\"attributes\":{\"bottom_units\":\"screen\",\"fill_alpha\":{\"value\":0.5},\"fill_color\":{\"value\":\"lightgrey\"},\"left_units\":\"screen\",\"level\":\"overlay\",\"line_alpha\":{\"value\":1.0},\"line_color\":{\"value\":\"black\"},\"line_dash\":[4,4],\"line_width\":{\"value\":2},\"plot\":null,\"render_mode\":\"css\",\"right_units\":\"screen\",\"top_units\":\"screen\"},\"id\":\"812d52b5-b90b-4151-a5f3-f7ff67132a36\",\"type\":\"BoxAnnotation\"},{\"attributes\":{},\"id\":\"9ee2dad3-1e2b-4162-a7a4-ff5dc73f401b\",\"type\":\"PanTool\"},{\"attributes\":{\"ticker\":null},\"id\":\"0b6124a0-21b1-4091-82d6-502107f75db0\",\"type\":\"LogTickFormatter\"},{\"attributes\":{},\"id\":\"1bfb2585-26fd-4e48-8a36-3015c952593a\",\"type\":\"ResetTool\"},{\"attributes\":{\"axis_label\":\"p(Count(w) < c)\",\"formatter\":{\"id\":\"a03044df-b070-4e54-b639-498c7a6a7263\",\"type\":\"BasicTickFormatter\"},\"plot\":{\"id\":\"577eba6b-cabe-47fe-9a42-b6a6e8c32709\",\"subtype\":\"Figure\",\"type\":\"Plot\"},\"ticker\":{\"id\":\"80e6af8e-2b19-497f-9ae4-3dcf641ae58f\",\"type\":\"BasicTicker\"}},\"id\":\"e5c2d76c-8c8d-48c8-886f-87fe83233689\",\"type\":\"LinearAxis\"},{\"attributes\":{\"callback\":null},\"id\":\"21c04813-c391-4bd3-87ef-e8a1282f9a93\",\"type\":\"DataRange1d\"},{\"attributes\":{\"fill_color\":{\"value\":\"white\"},\"line_color\":{\"value\":\"#1f77b4\"},\"x\":{\"field\":\"x\"},\"y\":{\"field\":\"y\"}},\"id\":\"771dad32-7f51-4cb2-95a2-ff5e5a3b2c0f\",\"type\":\"Circle\"},{\"attributes\":{},\"id\":\"d6f3bd02-3b70-4608-83e0-3bf8d118ebb6\",\"type\":\"LogScale\"},{\"attributes\":{\"active_drag\":\"auto\",\"active_inspect\":\"auto\",\"active_scroll\":\"auto\",\"active_tap\":\"auto\",\"tools\":[{\"id\":\"9ee2dad3-1e2b-4162-a7a4-ff5dc73f401b\",\"type\":\"PanTool\"},{\"id\":\"f2fe64d4-812b-41b9-a930-41a13641731c\",\"type\":\"WheelZoomTool\"},{\"id\":\"8a3bba52-9d2b-4fed-b2d6-541b2e08bec2\",\"type\":\"BoxZoomTool\"},{\"id\":\"7e3a1f1d-5199-4aa1-86f6-99e6a9873a0d\",\"type\":\"SaveTool\"},{\"id\":\"1bfb2585-26fd-4e48-8a36-3015c952593a\",\"type\":\"ResetTool\"},{\"id\":\"babe9b85-3649-46b0-b31d-4e88319a066b\",\"type\":\"HelpTool\"},{\"id\":\"1a328171-6e4b-45a6-bf85-c6ecf4d0e2e8\",\"type\":\"HoverTool\"}]},\"id\":\"bdaf7612-8b65-4095-ae1d-2ef12bcf2fc4\",\"type\":\"Toolbar\"},{\"attributes\":{},\"id\":\"80e6af8e-2b19-497f-9ae4-3dcf641ae58f\",\"type\":\"BasicTicker\"},{\"attributes\":{},\"id\":\"babe9b85-3649-46b0-b31d-4e88319a066b\",\"type\":\"HelpTool\"},{\"attributes\":{\"num_minor_ticks\":10},\"id\":\"7eba7353-b0b0-4ecb-9991-45c3bab3cc3f\",\"type\":\"LogTicker\"},{\"attributes\":{},\"id\":\"a03044df-b070-4e54-b639-498c7a6a7263\",\"type\":\"BasicTickFormatter\"},{\"attributes\":{\"plot\":{\"id\":\"577eba6b-cabe-47fe-9a42-b6a6e8c32709\",\"subtype\":\"Figure\",\"type\":\"Plot\"},\"ticker\":{\"id\":\"7eba7353-b0b0-4ecb-9991-45c3bab3cc3f\",\"type\":\"LogTicker\"}},\"id\":\"668151c5-4a45-445a-b992-f9bbe9e7a087\",\"type\":\"Grid\"},{\"attributes\":{\"callback\":null,\"column_names\":[\"x\",\"y\"],\"data\":{\"x\":{\"__ndarray__\":\"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\",\"dtype\":\"float64\",\"shape\":[559]},\"y\":{\"__ndarray__\":\"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\",\"dtype\":\"float64\",\"shape\":[559]}}},\"id\":\"8bdae91e-b44a-45ab-930f-a392431ba8ee\",\"type\":\"ColumnDataSource\"},{\"attributes\":{\"fill_alpha\":{\"value\":0.1},\"fill_color\":{\"value\":\"#1f77b4\"},\"line_alpha\":{\"value\":0.1},\"line_color\":{\"value\":\"#1f77b4\"},\"x\":{\"field\":\"x\"},\"y\":{\"field\":\"y\"}},\"id\":\"cddf462b-0312-4e03-9580-2649ede5621c\",\"type\":\"Circle\"},{\"attributes\":{\"callback\":null,\"start\":0},\"id\":\"43712d81-da28-41ea-89ec-5beb0a744a9b\",\"type\":\"DataRange1d\"},{\"attributes\":{\"data_source\":{\"id\":\"8bdae91e-b44a-45ab-930f-a392431ba8ee\",\"type\":\"ColumnDataSource\"},\"glyph\":{\"id\":\"6e7aa60e-27f5-47a6-af71-27c439032919\",\"type\":\"Line\"},\"hover_glyph\":null,\"muted_glyph\":null,\"nonselection_glyph\":{\"id\":\"e8217720-f1ab-4d24-87b8-20ccdb4f81ba\",\"type\":\"Line\"},\"selection_glyph\":null,\"view\":{\"id\":\"2ae5eb3d-e983-4fb9-84e5-c268189d7907\",\"type\":\"CDSView\"}},\"id\":\"edc91c56-b115-4294-9d0a-3c06f5f356a0\",\"type\":\"GlyphRenderer\"},{\"attributes\":{\"source\":{\"id\":\"8bdae91e-b44a-45ab-930f-a392431ba8ee\",\"type\":\"ColumnDataSource\"}},\"id\":\"2ae5eb3d-e983-4fb9-84e5-c268189d7907\",\"type\":\"CDSView\"},{\"attributes\":{\"plot\":null,\"text\":\"Cumulative Word Counts\"},\"id\":\"287d42ca-d5a5-4249-97fd-6dcf2fc2d2f0\",\"type\":\"Title\"}],\"root_ids\":[\"577eba6b-cabe-47fe-9a42-b6a6e8c32709\"]},\"title\":\"Bokeh Application\",\"version\":\"0.12.10\"}};\n",
       "    var render_items = [{\"docid\":\"d97c47a4-7704-4b4f-9f4d-d343f19c791d\",\"elementid\":\"7ecb382a-82e9-4997-901e-4bbedc035eab\",\"modelid\":\"577eba6b-cabe-47fe-9a42-b6a6e8c32709\"}];\n",
       "\n",
       "    root.Bokeh.embed.embed_items(docs_json, render_items);\n",
       "  }\n",
       "\n",
       "  if (root.Bokeh !== undefined) {\n",
       "    embed_document(root);\n",
       "  } else {\n",
       "    var attempts = 0;\n",
       "    var timer = setInterval(function(root) {\n",
       "      if (root.Bokeh !== undefined) {\n",
       "        embed_document(root);\n",
       "        clearInterval(timer);\n",
       "      }\n",
       "      attempts++;\n",
       "      if (attempts > 100) {\n",
       "        console.log(\"Bokeh: ERROR: Unable to embed document because BokehJS library is missing\")\n",
       "        clearInterval(timer);\n",
       "      }\n",
       "    }, 10, root)\n",
       "  }\n",
       "})(window);"
      ],
      "application/vnd.bokehjs_exec.v0+json": ""
     },
     "metadata": {
      "application/vnd.bokehjs_exec.v0+json": {
       "id": "577eba6b-cabe-47fe-9a42-b6a6e8c32709"
      }
     },
     "output_type": "display_data"
    }
   ],
   "source": [
    "# We'll use the histogram function with variable bins in order to get a stair-step plot.\n",
    "b_shift = 0.5  # So counts don't fall on bin boundaries.\n",
    "# Weights give us distribution by token; remove this to get distribution by type.\n",
    "# h, bins = np.histogram(counts, weights=counts, bins=b_shift+np.concatenate([[0], np.unique(counts)]))\n",
    "h, bins = np.histogram(counts, bins=b_shift+np.concatenate([[0], np.unique(counts)]))\n",
    "\n",
    "fig = bp.figure(plot_width=800, plot_height=400, x_axis_type=\"log\", title=\"Cumulative Word Counts\")\n",
    "l = fig.line(x=bins[1:]-b_shift, y=np.cumsum(1.0*h)/np.sum(h), line_width=2)\n",
    "fig.circle(x=bins[1:]-b_shift, y=np.cumsum(1.0*h)/np.sum(h), fill_color=\"white\", size=4)\n",
    "fig.add_tools(HoverTool(tooltips=[(\"count\", \"@x\"), (\"CDF\", \"@y\")], renderers=[l], mode=\"vline\"))\n",
    "fig.y_range.start = 0\n",
    "fig.yaxis.axis_label = \"p(Count(w) < c)\"\n",
    "fig.xaxis.axis_label = \"Count (log-scale)\"\n",
    "bp.show(fig)"
   ]
  },
  {
   "cell_type": "markdown",
   "metadata": {},
   "source": [
    "**Exercise:** the cell above plots the distribution based on *tokens*, or words on the page. Modify the histogram code to make a similar plot, but based on *types*, or distinct words in the vocabulary. If we pick a random word in the dictionary, how many times are we likely to see it in a 1M word corpus?\n",
    "\n",
    "**Exercise (more involved):** compute the same function for the bigram and trigram distributions, and overlay it on a version of the plot above. (This should be similar to a graph from the async.) What does this tell you about the sparsity problem?"
   ]
  },
  {
   "cell_type": "markdown",
   "metadata": {},
   "source": [
    "# Language Modeling\n",
    "\n",
    "With a basic idea of what our corpus looks like, we can now embark on the task of modeling it. Recall from the async that language modeling is the task of predicting the next word, given the preceding history:\n",
    "\n",
    "$$ P(w_i | w_{i-1}, ..., w_0)$$\n",
    "\n",
    "## Perplexity\n",
    "\n",
    "How hard is this task? Let's use the unigram distribution as a starting point for our model. We saw that the distribution is very uneven - some words (types) are very common, while others are very rare. If the corpus (or a sample thereof) is our test set, we're going to see our training labels according to the distribution $y \\sim p(w)$. A smarter model might take some features such as immediately previous words and do a better job estimating the next word (let's call such features $x$ in general). We can summarize how uncertain our model is by looking at the entropy:"
   ]
  },
  {
   "cell_type": "code",
   "execution_count": 7,
   "metadata": {},
   "outputs": [
    {
     "name": "stdout",
     "output_type": "stream",
     "text": [
      "Unigram entropy: 10.066 bits\n"
     ]
    }
   ],
   "source": [
    "print(\"Unigram entropy: {:.03f} bits\".format(stats.entropy(p, base=2)))"
   ]
  },
  {
   "cell_type": "markdown",
   "metadata": {},
   "source": [
    "Bits are still a little unintuitive, but we can do better. Recall from Assignment 1 that the entropy of a _uniform_ distribution over $n$ elements is $ \\log_2 n $. So given some distribution with entropy $H(P) = k$ bits we can say that distribution $P$ is _as uncertain as_ a uniform distribution over $2^k$ elements.\n",
    "\n",
    "If we apply this to our unigram distribution, we have:"
   ]
  },
  {
   "cell_type": "code",
   "execution_count": 8,
   "metadata": {},
   "outputs": [
    {
     "name": "stdout",
     "output_type": "stream",
     "text": [
      "Distinct unigrams: 48171\n",
      "As uncertain as:   1071.78\n"
     ]
    }
   ],
   "source": [
    "print(\"Distinct unigrams: {:d}\".format(len(p)))\n",
    "print(\"As uncertain as:   {:.02f}\".format(2**stats.entropy(p, base=2)))"
   ]
  },
  {
   "cell_type": "markdown",
   "metadata": {},
   "source": [
    "Now in the (real) machine learning setting, we can't really measure the entropy of the underlying distribution $P(y\\ |\\ x) = P(w_i | w_{i-1}, ..., w_0)$. But, we can approximate the cross-entropy between the true distribution (for which we have samples $y_i \\sim P(y\\ |\\ x_i)$) and our _predicted_ distribution $\\hat{P}(y\\ |\\ x_i)$:\n",
    "\n",
    "$$ \\text{CE}(P, \\hat{P}) = - \\sum_{y,x} P(y\\ |\\ x) \\log_2 \\hat{P}(y\\ |\\ x) \\approx - \\frac{1}{N} \\sum_{i}^N \\log_2 \\hat{P}(y_i\\ |\\ x_i)$$\n",
    "\n",
    "This has the same units (bits), and we can exponentiate it in the same way to give us a measure of \"how confused\" the model is. This quantity is the **perplexity** of the model. A perplexity of $k$ tells us that the model is as uncertain as if it had to choose from $k$ elements with equal probability.\n",
    "\n",
    "So suppose we used the unigram model as our language model. We'll cheat for now and just use $\\hat{P}_{\\text{unigram}}(w) = \\tilde{p}(w) $ (where $\\tilde{p}$ denotes an estimate from a finite sample). Then our (training set) perplexity is:"
   ]
  },
  {
   "cell_type": "code",
   "execution_count": 9,
   "metadata": {},
   "outputs": [
    {
     "name": "stdout",
     "output_type": "stream",
     "text": [
      "Unigram language model\n",
      "Expected full-corpus perplexity: 1071.78\n"
     ]
    }
   ],
   "source": [
    "# scipy.stats.entropy with two arguments\n",
    "def cross_entropy(p, q):\n",
    "    return -1*np.sum(p * np.log2(q))\n",
    "\n",
    "print(\"Unigram language model\")\n",
    "print(\"Expected full-corpus perplexity: {:.02f}\".format(2**cross_entropy(p, q=p)))"
   ]
  },
  {
   "cell_type": "markdown",
   "metadata": {},
   "source": [
    "If we want to sanity-check it, we can do our usual machine learning loss calculation: look at all the examples (words), and take the average loss:"
   ]
  },
  {
   "cell_type": "code",
   "execution_count": 10,
   "metadata": {},
   "outputs": [
    {
     "name": "stderr",
     "output_type": "stream",
     "text": [
      "100%|██████████| 1161192/1161192 [00:05<00:00, 217785.17it/s]\n"
     ]
    },
    {
     "name": "stdout",
     "output_type": "stream",
     "text": [
      "Perplexity (full-corpus): 1071.78\n"
     ]
    }
   ],
   "source": [
    "word_to_prob = {w:p[i] for i,w in enumerate(words)}\n",
    "probs = [word_to_prob[utils.canonicalize_word(w)] \n",
    "         for w in ProgressBar(corpus.words())]\n",
    "perplexity = 2**(-1*np.sum(np.log2(probs))/len(probs))\n",
    "print(\"Perplexity (full-corpus): {:.02f}\".format(perplexity))"
   ]
  },
  {
   "cell_type": "markdown",
   "metadata": {},
   "source": [
    "In the two cells below, we test out our simple model by taking a piece of text with all the spaces removed, enumerating all possible ways of splitting it (efficiently using dynamic programming - more on that later in the course), scoring each, and then returning the highest scoring sequence.\n",
    "\n",
    "You can see we can apply even this **really** simple model to a neat application[1]!\n",
    "\n",
    "[1] Peter Norvig, a director of research at Google implemented this model here:  http://norvig.com/ngrams/ch14.pdf and extends it pretty far.  By the end, he has managed to decrypt WWI encryption using only this simple language model!"
   ]
  },
  {
   "cell_type": "code",
   "execution_count": 11,
   "metadata": {},
   "outputs": [
    {
     "data": {
      "text/plain": [
       "['hello', 'there', 'how', 'are', 'you']"
      ]
     },
     "execution_count": 11,
     "metadata": {},
     "output_type": "execute_result"
    }
   ],
   "source": [
    "segment.segment('hellotherehowareyou', vocab)"
   ]
  },
  {
   "cell_type": "code",
   "execution_count": 12,
   "metadata": {},
   "outputs": [
    {
     "data": {
      "text/plain": [
       "['dance', 'a', 'jig']"
      ]
     },
     "execution_count": 12,
     "metadata": {},
     "output_type": "execute_result"
    }
   ],
   "source": [
    "segment.segment('danceajig', vocab)"
   ]
  },
  {
   "cell_type": "code",
   "execution_count": 13,
   "metadata": {},
   "outputs": [
    {
     "data": {
      "text/plain": [
       "['the', 'cat', 'in', 'the', 'hat']"
      ]
     },
     "execution_count": 13,
     "metadata": {},
     "output_type": "execute_result"
    }
   ],
   "source": [
    "segment.segment('thecatinthehat', vocab)"
   ]
  },
  {
   "cell_type": "markdown",
   "metadata": {},
   "source": [
    "## N-Gram Language Models\n",
    "\n",
    "The unigram model isn't a very good one - it doesn't model any previous context at all. On the other hand, we can't model _all_ of the preceding words, because that history could get prohibitively long and extremely sparse. As a compromise, we'll make a _Markov assumption_ and limit ourselves to a finite history of $n$ words.\n",
    "\n",
    "For now, we'll build a trigram model, which considers the two preceding words:\n",
    "\n",
    "$$ P(w_i\\ |\\ w_{i-1}, ..., w_0) \\approx P(w_i\\ |\\ w_{i-1}, w_{i-2}) $$\n",
    "\n",
    "**Exercise:** how many possible trigrams are there?\n",
    "\n",
    "We'll need to store a table of the probabilities, indexed by triples $(w_i, w_{i-1}, w_{i-2})$. If we store every possible combination, it can get quite large. Assuming 8 bytes for each entry, we have:"
   ]
  },
  {
   "cell_type": "code",
   "execution_count": 14,
   "metadata": {},
   "outputs": [
    {
     "name": "stdout",
     "output_type": "stream",
     "text": [
      "Vocab size:         48,174 words\n",
      "Unigrams need:        376.36 kB\n",
      "Bigrams  need:      17705.80 MB\n",
      "Trigrams need:  852959083.65 MB\n",
      "Available:           1082.10 MB\n"
     ]
    }
   ],
   "source": [
    "import psutil\n",
    "print(\"Vocab size:     {:10,} words\".format(vocab.size))\n",
    "print(\"Unigrams need:  {:12.2f} kB\".format(8 * (vocab.size ** 1) / (2**10)))\n",
    "print(\"Bigrams  need:  {:12.2f} MB\".format(8 * (vocab.size ** 2) / (2**20)))\n",
    "print(\"Trigrams need:  {:12.2f} MB\".format(8 * (vocab.size ** 3) / (2**20)))\n",
    "print(\"Available:      {:12.2f} MB\".format(psutil.virtual_memory().available / (2**20)))"
   ]
  },
  {
   "cell_type": "markdown",
   "metadata": {},
   "source": [
    "Well, that's no good. We can store all possible unigrams, but after that we're toast.\n",
    "\n",
    "Thankfully, we don't have to store everything. Recall that most words only appear a handful of times, and that there are plenty of words in the English language that we don't see in our corpus at all. For bigrams and trigrams, the table will be quite sparse. We need only store the entries that we actually observe; the rest we can take to be zero, or estimate their values on the fly through smoothing or backoff.\n",
    "\n",
    "**Observation:** When building language models, be sure to only keep non-zero counts in your datastructures and assume anything missing is 0.\n",
    "\n",
    "**Exercise:** for a corpus of 1 million words and a vocabulary of 10000, what is the maximum number of bigrams that can be actually _observed_? How about trigrams?"
   ]
  },
  {
   "cell_type": "markdown",
   "metadata": {},
   "source": [
    "### Constructing our Model\n",
    "\n",
    "We'll represent our model with a nested map `context => word => probability`, where word is $w_i$ and for our trigram model, the context is the two preceding words $(w_{i-2}, w_{i-1})$.\n",
    "\n",
    "First, we'll go through the corpus and compute raw trigram counts $c(abc)$, which we'll then normalize into probabilities:\n",
    "\n",
    "$$  P_{abc} = P(w_i = c\\ |\\ w_{i-1} = b, w_{i-2} = a) = \\frac{\\mathrm{c(abc)}}{\\sum_{c'}\\mathrm{c(abc')}} = \\frac{C_{abc}}{\\sum_{c'} C_{abc'}} $$\n",
    "\n",
    "Here's the code for our model:"
   ]
  },
  {
   "cell_type": "code",
   "execution_count": 15,
   "metadata": {
    "collapsed": true
   },
   "outputs": [],
   "source": [
    "from collections import defaultdict\n",
    "\n",
    "def normalize_counter(c):\n",
    "    \"\"\"Given a dictionary of <item, counts>, return <item, fraction>.\"\"\"\n",
    "    total = sum(c.values())\n",
    "    return {w:float(c[w])/total for w in c}\n",
    "\n",
    "class SimpleTrigramLM(object):\n",
    "    def __init__(self, words):\n",
    "        \"\"\"Build our simple trigram model.\"\"\"\n",
    "        # Raw trigram counts over the corpus. \n",
    "        # c(w | w_1 w_2) = self.counts[(w_2,w_1)][w]\n",
    "        self.counts = defaultdict(lambda: defaultdict(lambda: 0.0))\n",
    "    \n",
    "        # Iterate through the word stream once.\n",
    "        w_1, w_2 = None, None\n",
    "        for word in words:\n",
    "            if w_1 is not None and w_2 is not None:\n",
    "                # Increment trigram count.\n",
    "                self.counts[(w_2,w_1)][word] += 1\n",
    "            # Shift context along the stream of words.\n",
    "            w_2 = w_1\n",
    "            w_1 = word\n",
    "            \n",
    "        # Normalize so that for each context we have a valid probability\n",
    "        # distribution (i.e. adds up to 1.0) of possible next tokens.\n",
    "        self.probas = defaultdict(lambda: defaultdict(lambda: 0.0))\n",
    "        for context, ctr in self.counts.items():\n",
    "            self.probas[context] = normalize_counter(ctr)\n",
    "            \n",
    "    def next_word_proba(self, word, seq):\n",
    "        \"\"\"Compute p(word | seq)\"\"\"\n",
    "        context = tuple(seq[-2:])  # last two words\n",
    "        return self.probas[context].get(word, 0.0)\n",
    "    \n",
    "    def predict_next(self, seq):\n",
    "        \"\"\"Sample a word from the conditional distribution.\"\"\"\n",
    "        context = tuple(seq[-2:])  # last two words\n",
    "        pc = self.probas[context]  # conditional distribution\n",
    "        words, probs = zip(*pc.items())  # convert to list\n",
    "        return np.random.choice(words, p=probs)\n",
    "    \n",
    "    def score_seq(self, seq, verbose=False):\n",
    "        \"\"\"Compute log probability (base 2) of the given sequence.\"\"\"\n",
    "        score = 0.0\n",
    "        count = 0\n",
    "        # Start at third word, since we need a full context.\n",
    "        for i in range(2, len(seq)):\n",
    "            if (seq[i] == \"<s>\" or seq[i] == \"</s>\"):\n",
    "                continue  # Don't count special tokens in score.\n",
    "            s = np.log2(self.next_word_proba(seq[i], seq[i-2:i]))\n",
    "            score += s\n",
    "            count += 1\n",
    "            # DEBUG\n",
    "            if verbose:\n",
    "                print(\"log P({:s} | {:s}) = {.03f}\".format(seq[i], \" \".join(seq[i-2:i]), s))\n",
    "        return score, count\n"
   ]
  },
  {
   "cell_type": "markdown",
   "metadata": {},
   "source": [
    "### Training\n",
    "\n",
    "Let's train our model. We'll do a proper train-test split this time, so we can evaluate on unseen data. This means that we also have to fix our vocabulary based on the *training* set - which means that some unseen words in the test set will get replaced by `<unk>`. The `Vocabulary` helper class will take care of this for us."
   ]
  },
  {
   "cell_type": "code",
   "execution_count": 16,
   "metadata": {},
   "outputs": [
    {
     "name": "stdout",
     "output_type": "stream",
     "text": [
      "Loaded 57,340 sentences (1.16119e+06 tokens)\n",
      "Training set: 45,872 sentences (929,539 tokens)\n",
      "Test set: 11,468 sentences (231,653 tokens)\n"
     ]
    }
   ],
   "source": [
    "train_sents, test_sents = utils.get_train_test_sents(corpus, split=0.8, shuffle=True)"
   ]
  },
  {
   "cell_type": "code",
   "execution_count": 17,
   "metadata": {},
   "outputs": [
    {
     "name": "stderr",
     "output_type": "stream",
     "text": [
      "100%|██████████| 929539/929539 [00:04<00:00, 217318.61it/s]\n"
     ]
    },
    {
     "name": "stdout",
     "output_type": "stream",
     "text": [
      "Train set vocabulary: 43707 words\n"
     ]
    }
   ],
   "source": [
    "vocab = vocabulary.Vocabulary(utils.canonicalize_word(w) for w in ProgressBar(utils.flatten(train_sents)))\n",
    "print(\"Train set vocabulary: %d words\" % vocab.size)"
   ]
  },
  {
   "cell_type": "markdown",
   "metadata": {},
   "source": [
    "#### A note on Preprocessing\n",
    "\n",
    "We didn't do this for the unigram LM, but when modeling sentences it's helpful to add special beginning-of-sentence (`<s>`) and end-of-sentence (`</s>`) tokens. \n",
    "\n",
    "This lets the model estimate the probability of a word appearing at the beginning of a sentence, and lets it model the end of a sentence properly, since periods or other punctuation aren't always an accurate guide (e.g. `\"Dr.\"` or `\"Yahoo!\"`).\n",
    "\n",
    "Our padded sentences will look like this:\n",
    "```\n",
    "<s> <s> the cat sat in the hat . </s>\n",
    "```\n",
    "**Exercise:** why do we add two `<s>` tokens at the beginning? (*Hint: this is specific to our trigram model.*)"
   ]
  },
  {
   "cell_type": "code",
   "execution_count": 18,
   "metadata": {},
   "outputs": [
    {
     "name": "stderr",
     "output_type": "stream",
     "text": [
      "100%|██████████| 1067155/1067155 [00:01<00:00, 910900.05it/s]\n",
      "100%|██████████| 266057/266057 [00:00<00:00, 852596.19it/s]\n"
     ]
    },
    {
     "name": "stdout",
     "output_type": "stream",
     "text": [
      "Building trigram LM...\n",
      "done in 4.93 s\n"
     ]
    }
   ],
   "source": [
    "def sents_to_tokens(sents):\n",
    "    \"\"\"Returns an flattened list of the words in the sentences, with padding for a trigram model.\"\"\"\n",
    "    padded_sentences = ([\"<s>\", \"<s>\"] + s + [\"</s>\"] for s in sents)\n",
    "    # This will canonicalize words, and replace anything not in vocab with <unk>\n",
    "    return np.array([utils.canonicalize_word(w, wordset=vocab.wordset) \n",
    "                     for w in ProgressBar(utils.flatten(padded_sentences))], dtype=object)\n",
    "\n",
    "train_tokens = sents_to_tokens(train_sents)\n",
    "test_tokens = sents_to_tokens(test_sents)\n",
    "\n",
    "t0 = time.time()\n",
    "print(\"Building trigram LM...\",)\n",
    "lm = SimpleTrigramLM(train_tokens)\n",
    "print(\"done in %.02f s\" % (time.time() - t0))"
   ]
  },
  {
   "cell_type": "markdown",
   "metadata": {},
   "source": [
    "## Sampling Sentences\n",
    "\n",
    "Before we run scoring, let's look at some generated sentences from our model. We'll generate them sequentially, one token at a time:"
   ]
  },
  {
   "cell_type": "code",
   "execution_count": 19,
   "metadata": {},
   "outputs": [
    {
     "name": "stdout",
     "output_type": "stream",
     "text": [
      "<s> <s> she has a physique title of `` tattle-tale grey '' and `` i guess anybody'd figure -- is described for\n",
      "[20 tokens; log P(seq): -58.67]\n",
      "\n",
      "<s> <s> it motivates his behavior in the famous scene magnificently . </s>\n",
      "[10 tokens; log P(seq): -35.96]\n",
      "\n",
      "<s> <s> bumblebees can thus be introduced to her voice . </s>\n",
      "[9 tokens; log P(seq): -31.47]\n",
      "\n",
      "<s> <s> the concept of the first of his connection with eurasian proto-senility cults . </s>\n",
      "[13 tokens; log P(seq): -45.56]\n",
      "\n",
      "<s> <s> the third , containing canisters which contained a few large gulps . </s>\n",
      "[12 tokens; log P(seq): -34.38]\n",
      "\n"
     ]
    }
   ],
   "source": [
    "max_length = 20\n",
    "num_sentences = 5\n",
    "\n",
    "for _ in range(num_sentences):\n",
    "    seq = [\"<s>\", \"<s>\"]\n",
    "    for i in range(max_length):\n",
    "        seq.append(lm.predict_next(seq))\n",
    "        # Stop at end-of-sentence\n",
    "        if seq[-1] == \"</s>\": break\n",
    "    print(\" \".join(seq))\n",
    "    print(\"[{1:d} tokens; log P(seq): {0:.02f}]\".format(*lm.score_seq(seq)))\n",
    "    print(\"\")"
   ]
  },
  {
   "cell_type": "markdown",
   "metadata": {},
   "source": [
    "## Scoring our model\n",
    "\n",
    "We'll score our model by running the `score_seq` function, which computes \n",
    "\n",
    "$$ \\text{CE}_{\\text{total}}(y, \\hat{y}) = \\sum_{i=2}^N \\log_2 \\hat{p}(w_i\\ |\\ w_{i-1}, w_{i-2}) $$\n",
    "\n",
    "This is the cross-entropy loss, which is equal to $-1$ times the log-likelihood of the data under our model. As usual, we'll exponentiate to get the perplexity score:"
   ]
  },
  {
   "cell_type": "code",
   "execution_count": 20,
   "metadata": {},
   "outputs": [
    {
     "name": "stdout",
     "output_type": "stream",
     "text": [
      "Train perplexity: 7.44\n"
     ]
    },
    {
     "name": "stderr",
     "output_type": "stream",
     "text": [
      "/home/iftenney/anaconda3/lib/python3.6/site-packages/ipykernel_launcher.py:51: RuntimeWarning: divide by zero encountered in log2\n"
     ]
    },
    {
     "name": "stdout",
     "output_type": "stream",
     "text": [
      "Test perplexity: inf\n"
     ]
    }
   ],
   "source": [
    "log_p_data, num_real_tokens = lm.score_seq(train_tokens)\n",
    "print(\"Train perplexity: {:.02f}\".format(2**(-1*log_p_data/num_real_tokens)))\n",
    "\n",
    "log_p_data, num_real_tokens = lm.score_seq(test_tokens)\n",
    "print(\"Test perplexity: {:.02f}\".format(2**(-1*log_p_data/num_real_tokens)))"
   ]
  },
  {
   "cell_type": "markdown",
   "metadata": {},
   "source": [
    "What's going on here? Our model gets an absurdly low perplexity on the training data, but a perplexity of _infinity_ on the test data.\n",
    "\n",
    "**Answer:** the n-gram model badly overfits without any smoothing."
   ]
  },
  {
   "cell_type": "markdown",
   "metadata": {},
   "source": [
    "## Smoothing and Handling the Unknown\n",
    "\n",
    "Our simple model doesn't have any real mechanism for handling unknown words - if we feed something unseen to `score_seq`, it will assign it a probability of zero:"
   ]
  },
  {
   "cell_type": "code",
   "execution_count": 21,
   "metadata": {},
   "outputs": [
    {
     "name": "stderr",
     "output_type": "stream",
     "text": [
      "/home/iftenney/anaconda3/lib/python3.6/site-packages/ipykernel_launcher.py:51: RuntimeWarning: divide by zero encountered in log2\n"
     ]
    },
    {
     "data": {
      "text/plain": [
       "-inf"
      ]
     },
     "execution_count": 21,
     "metadata": {},
     "output_type": "execute_result"
    }
   ],
   "source": [
    "lm.score_seq([\"<s>\", \"i\", \"love\", \"w266\", \"</s>\"])[0]"
   ]
  },
  {
   "cell_type": "markdown",
   "metadata": {},
   "source": [
    "This is the cause of the infinite perplexity, above: $\\log_2 0 = -\\infty $. \n",
    "\n",
    "**Exercise:** besides unknown words, when else would the un-smoothed trigram model predict $p(w\\ |\\ w_{i-1}, w_{i-2}) = 0$ ?\n",
    "\n",
    "Is assuming zero probabilities realistic? Let's look back at our unigram distribution:"
   ]
  },
  {
   "cell_type": "code",
   "execution_count": 22,
   "metadata": {},
   "outputs": [
    {
     "name": "stdout",
     "output_type": "stream",
     "text": [
      "% words seen only once: 1.80%\n"
     ]
    }
   ],
   "source": [
    "print(\"% words seen only once: {:.02%}\".format(sum(counts * (counts == 1)) / sum(counts)))"
   ]
  },
  {
   "cell_type": "markdown",
   "metadata": {},
   "source": [
    "About 1 in 50 words were seen only once in our corpus, so we might expect a comparable fraction of words in a new sample to also be previously-unseen:"
   ]
  },
  {
   "cell_type": "code",
   "execution_count": 23,
   "metadata": {},
   "outputs": [
    {
     "name": "stdout",
     "output_type": "stream",
     "text": [
      "% <unk> in test set: 1.83%\n"
     ]
    }
   ],
   "source": [
    "print(\"% <unk> in test set: {:.02%}\".format(np.sum(np.array(test_tokens) == \"<unk>\") / len(test_tokens)))"
   ]
  },
  {
   "cell_type": "markdown",
   "metadata": {},
   "source": [
    "If we want to use our language model in the wild, we'll need to implement some kind of smoothing to hedge our bets whenever these come up. This will be a major focus of Assignment 2, in which you'll build on the `SimpleTrigramLM` by implementing Laplace (add-k) and Kneser-Ney smoothing."
   ]
  }
 ],
 "metadata": {
  "anaconda-cloud": {},
  "kernelspec": {
   "display_name": "Python 3",
   "language": "python",
   "name": "python3"
  },
  "language_info": {
   "codemirror_mode": {
    "name": "ipython",
    "version": 3
   },
   "file_extension": ".py",
   "mimetype": "text/x-python",
   "name": "python",
   "nbconvert_exporter": "python",
   "pygments_lexer": "ipython3",
   "version": "3.6.3"
  }
 },
 "nbformat": 4,
 "nbformat_minor": 1
}
